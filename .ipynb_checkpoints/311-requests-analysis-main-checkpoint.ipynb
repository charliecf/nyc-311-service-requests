{
 "cells": [
  {
   "cell_type": "code",
   "execution_count": 3,
   "metadata": {
    "collapsed": false,
    "deletable": true,
    "editable": true
   },
   "outputs": [
    {
     "data": {
      "text/html": [
       "<iframe id=\"igraph\" scrolling=\"no\" style=\"border:none;\" seamless=\"seamless\" src=\"https://plot.ly/~chris/7365.embed\" height=\"525\" width=\"100%\"></iframe>"
      ],
      "text/plain": [
       "<plotly.tools.PlotlyDisplay object>"
      ]
     },
     "execution_count": 3,
     "metadata": {},
     "output_type": "execute_result"
    }
   ],
   "source": [
    "import plotly.tools as tls\n",
    "tls.embed('https://plot.ly/~chris/7365')"
   ]
  },
  {
   "cell_type": "code",
   "execution_count": 4,
   "metadata": {
    "collapsed": false,
    "deletable": true,
    "editable": true
   },
   "outputs": [],
   "source": [
    "import pandas as pd\n",
    "from sqlalchemy import create_engine # database connection\n",
    "import datetime as dt\n",
    "from IPython.display import display\n",
    "\n",
    "import plotly.plotly as py # interactive graphing\n",
    "from plotly.graph_objs import *\n",
    "# from plotly.graph_objs import Bar, Scatter, Marker, Layout"
   ]
  },
  {
   "cell_type": "code",
   "execution_count": 10,
   "metadata": {
    "collapsed": false,
    "deletable": true,
    "editable": true
   },
   "outputs": [
    {
     "data": {
      "text/html": [
       "<div>\n",
       "<table border=\"1\" class=\"dataframe\">\n",
       "  <thead>\n",
       "    <tr style=\"text-align: right;\">\n",
       "      <th></th>\n",
       "      <th>Unique Key</th>\n",
       "      <th>Created Date</th>\n",
       "      <th>Closed Date</th>\n",
       "      <th>Agency</th>\n",
       "      <th>Agency Name</th>\n",
       "      <th>Complaint Type</th>\n",
       "      <th>Descriptor</th>\n",
       "      <th>Location Type</th>\n",
       "      <th>Incident Zip</th>\n",
       "      <th>Incident Address</th>\n",
       "      <th>...</th>\n",
       "      <th>Bridge Highway Name</th>\n",
       "      <th>Bridge Highway Direction</th>\n",
       "      <th>Road Ramp</th>\n",
       "      <th>Bridge Highway Segment</th>\n",
       "      <th>Garage Lot Name</th>\n",
       "      <th>Ferry Direction</th>\n",
       "      <th>Ferry Terminal Name</th>\n",
       "      <th>Latitude</th>\n",
       "      <th>Longitude</th>\n",
       "      <th>Location</th>\n",
       "    </tr>\n",
       "  </thead>\n",
       "  <tbody>\n",
       "    <tr>\n",
       "      <th>0</th>\n",
       "      <td>16068187</td>\n",
       "      <td>02/23/2010 12:00:00 AM</td>\n",
       "      <td>03/08/2010 12:00:00 AM</td>\n",
       "      <td>HPD</td>\n",
       "      <td>Department of Housing Preservation and Develop...</td>\n",
       "      <td>PAINT - PLASTER</td>\n",
       "      <td>CEILING</td>\n",
       "      <td>RESIDENTIAL BUILDING</td>\n",
       "      <td>10304</td>\n",
       "      <td>101 WATER STREET</td>\n",
       "      <td>...</td>\n",
       "      <td>NaN</td>\n",
       "      <td>NaN</td>\n",
       "      <td>NaN</td>\n",
       "      <td>NaN</td>\n",
       "      <td>NaN</td>\n",
       "      <td>NaN</td>\n",
       "      <td>NaN</td>\n",
       "      <td>40.627055</td>\n",
       "      <td>-74.077213</td>\n",
       "      <td>(40.627055398012274, -74.07721261402538)</td>\n",
       "    </tr>\n",
       "    <tr>\n",
       "      <th>1</th>\n",
       "      <td>16068188</td>\n",
       "      <td>02/23/2010 12:00:00 AM</td>\n",
       "      <td>03/11/2010 12:00:00 AM</td>\n",
       "      <td>HPD</td>\n",
       "      <td>Department of Housing Preservation and Develop...</td>\n",
       "      <td>PAINT - PLASTER</td>\n",
       "      <td>CEILING</td>\n",
       "      <td>RESIDENTIAL BUILDING</td>\n",
       "      <td>10010</td>\n",
       "      <td>309 3 AVENUE</td>\n",
       "      <td>...</td>\n",
       "      <td>NaN</td>\n",
       "      <td>NaN</td>\n",
       "      <td>NaN</td>\n",
       "      <td>NaN</td>\n",
       "      <td>NaN</td>\n",
       "      <td>NaN</td>\n",
       "      <td>NaN</td>\n",
       "      <td>40.739133</td>\n",
       "      <td>-73.982917</td>\n",
       "      <td>(40.73913261925362, -73.98291702868069)</td>\n",
       "    </tr>\n",
       "  </tbody>\n",
       "</table>\n",
       "<p>2 rows × 53 columns</p>\n",
       "</div>"
      ],
      "text/plain": [
       "   Unique Key            Created Date             Closed Date Agency  \\\n",
       "0    16068187  02/23/2010 12:00:00 AM  03/08/2010 12:00:00 AM    HPD   \n",
       "1    16068188  02/23/2010 12:00:00 AM  03/11/2010 12:00:00 AM    HPD   \n",
       "\n",
       "                                         Agency Name   Complaint Type  \\\n",
       "0  Department of Housing Preservation and Develop...  PAINT - PLASTER   \n",
       "1  Department of Housing Preservation and Develop...  PAINT - PLASTER   \n",
       "\n",
       "  Descriptor         Location Type  Incident Zip  Incident Address  \\\n",
       "0    CEILING  RESIDENTIAL BUILDING         10304  101 WATER STREET   \n",
       "1    CEILING  RESIDENTIAL BUILDING         10010      309 3 AVENUE   \n",
       "\n",
       "                     ...                    Bridge Highway Name  \\\n",
       "0                    ...                                    NaN   \n",
       "1                    ...                                    NaN   \n",
       "\n",
       "  Bridge Highway Direction Road Ramp  Bridge Highway Segment  Garage Lot Name  \\\n",
       "0                      NaN       NaN                     NaN              NaN   \n",
       "1                      NaN       NaN                     NaN              NaN   \n",
       "\n",
       "  Ferry Direction Ferry Terminal Name   Latitude  Longitude  \\\n",
       "0             NaN                 NaN  40.627055 -74.077213   \n",
       "1             NaN                 NaN  40.739133 -73.982917   \n",
       "\n",
       "                                   Location  \n",
       "0  (40.627055398012274, -74.07721261402538)  \n",
       "1   (40.73913261925362, -73.98291702868069)  \n",
       "\n",
       "[2 rows x 53 columns]"
      ]
     },
     "metadata": {},
     "output_type": "display_data"
    },
    {
     "data": {
      "text/html": [
       "<div>\n",
       "<table border=\"1\" class=\"dataframe\">\n",
       "  <thead>\n",
       "    <tr style=\"text-align: right;\">\n",
       "      <th></th>\n",
       "      <th>Unique Key</th>\n",
       "      <th>Created Date</th>\n",
       "      <th>Closed Date</th>\n",
       "      <th>Agency</th>\n",
       "      <th>Agency Name</th>\n",
       "      <th>Complaint Type</th>\n",
       "      <th>Descriptor</th>\n",
       "      <th>Location Type</th>\n",
       "      <th>Incident Zip</th>\n",
       "      <th>Incident Address</th>\n",
       "      <th>...</th>\n",
       "      <th>Bridge Highway Name</th>\n",
       "      <th>Bridge Highway Direction</th>\n",
       "      <th>Road Ramp</th>\n",
       "      <th>Bridge Highway Segment</th>\n",
       "      <th>Garage Lot Name</th>\n",
       "      <th>Ferry Direction</th>\n",
       "      <th>Ferry Terminal Name</th>\n",
       "      <th>Latitude</th>\n",
       "      <th>Longitude</th>\n",
       "      <th>Location</th>\n",
       "    </tr>\n",
       "  </thead>\n",
       "  <tbody>\n",
       "    <tr>\n",
       "      <th>0</th>\n",
       "      <td>16068187</td>\n",
       "      <td>02/23/2010 12:00:00 AM</td>\n",
       "      <td>03/08/2010 12:00:00 AM</td>\n",
       "      <td>HPD</td>\n",
       "      <td>Department of Housing Preservation and Develop...</td>\n",
       "      <td>PAINT - PLASTER</td>\n",
       "      <td>CEILING</td>\n",
       "      <td>RESIDENTIAL BUILDING</td>\n",
       "      <td>10304</td>\n",
       "      <td>101 WATER STREET</td>\n",
       "      <td>...</td>\n",
       "      <td>NaN</td>\n",
       "      <td>NaN</td>\n",
       "      <td>NaN</td>\n",
       "      <td>NaN</td>\n",
       "      <td>NaN</td>\n",
       "      <td>NaN</td>\n",
       "      <td>NaN</td>\n",
       "      <td>40.627055</td>\n",
       "      <td>-74.077213</td>\n",
       "      <td>(40.627055398012274, -74.07721261402538)</td>\n",
       "    </tr>\n",
       "    <tr>\n",
       "      <th>1</th>\n",
       "      <td>16068188</td>\n",
       "      <td>02/23/2010 12:00:00 AM</td>\n",
       "      <td>03/11/2010 12:00:00 AM</td>\n",
       "      <td>HPD</td>\n",
       "      <td>Department of Housing Preservation and Develop...</td>\n",
       "      <td>PAINT - PLASTER</td>\n",
       "      <td>CEILING</td>\n",
       "      <td>RESIDENTIAL BUILDING</td>\n",
       "      <td>10010</td>\n",
       "      <td>309 3 AVENUE</td>\n",
       "      <td>...</td>\n",
       "      <td>NaN</td>\n",
       "      <td>NaN</td>\n",
       "      <td>NaN</td>\n",
       "      <td>NaN</td>\n",
       "      <td>NaN</td>\n",
       "      <td>NaN</td>\n",
       "      <td>NaN</td>\n",
       "      <td>40.739133</td>\n",
       "      <td>-73.982917</td>\n",
       "      <td>(40.73913261925362, -73.98291702868069)</td>\n",
       "    </tr>\n",
       "  </tbody>\n",
       "</table>\n",
       "<p>2 rows × 53 columns</p>\n",
       "</div>"
      ],
      "text/plain": [
       "   Unique Key            Created Date             Closed Date Agency  \\\n",
       "0    16068187  02/23/2010 12:00:00 AM  03/08/2010 12:00:00 AM    HPD   \n",
       "1    16068188  02/23/2010 12:00:00 AM  03/11/2010 12:00:00 AM    HPD   \n",
       "\n",
       "                                         Agency Name   Complaint Type  \\\n",
       "0  Department of Housing Preservation and Develop...  PAINT - PLASTER   \n",
       "1  Department of Housing Preservation and Develop...  PAINT - PLASTER   \n",
       "\n",
       "  Descriptor         Location Type  Incident Zip  Incident Address  \\\n",
       "0    CEILING  RESIDENTIAL BUILDING         10304  101 WATER STREET   \n",
       "1    CEILING  RESIDENTIAL BUILDING         10010      309 3 AVENUE   \n",
       "\n",
       "                     ...                    Bridge Highway Name  \\\n",
       "0                    ...                                    NaN   \n",
       "1                    ...                                    NaN   \n",
       "\n",
       "  Bridge Highway Direction Road Ramp  Bridge Highway Segment  Garage Lot Name  \\\n",
       "0                      NaN       NaN                     NaN              NaN   \n",
       "1                      NaN       NaN                     NaN              NaN   \n",
       "\n",
       "  Ferry Direction Ferry Terminal Name   Latitude  Longitude  \\\n",
       "0             NaN                 NaN  40.627055 -74.077213   \n",
       "1             NaN                 NaN  40.739133 -73.982917   \n",
       "\n",
       "                                   Location  \n",
       "0  (40.627055398012274, -74.07721261402538)  \n",
       "1   (40.73913261925362, -73.98291702868069)  \n",
       "\n",
       "[2 rows x 53 columns]"
      ]
     },
     "metadata": {},
     "output_type": "display_data"
    }
   ],
   "source": [
    "display(pd.read_csv('311_Service_Requests_from_2010_to_Present.csv', nrows=2).head())\n",
    "display(pd.read_csv('311_Service_Requests_from_2010_to_Present.csv', nrows=2).tail())"
   ]
  },
  {
   "cell_type": "code",
   "execution_count": 13,
   "metadata": {
    "collapsed": false,
    "deletable": true,
    "editable": true
   },
   "outputs": [
    {
     "name": "stdout",
     "output_type": "stream",
     "text": [
      "14644840\r\n"
     ]
    }
   ],
   "source": [
    "!wc -l < 311_Service_Requests_from_2010_to_Present.csv # Number of lines in dataset"
   ]
  },
  {
   "cell_type": "code",
   "execution_count": 5,
   "metadata": {
    "collapsed": true,
    "deletable": true,
    "editable": true
   },
   "outputs": [],
   "source": [
    "disk_engine = create_engine('sqlite:///311_8M.db') # Initializes database with filename"
   ]
  },
  {
   "cell_type": "code",
   "execution_count": 18,
   "metadata": {
    "collapsed": false,
    "deletable": true,
    "editable": true
   },
   "outputs": [
    {
     "name": "stderr",
     "output_type": "stream",
     "text": [
      "/home/char/.virtualenvs/data-science/lib/python3.6/site-packages/IPython/core/interactiveshell.py:2717: DtypeWarning:\n",
      "\n",
      "Columns (8,40,41,48) have mixed types. Specify dtype option on import or set low_memory=False.\n",
      "\n"
     ]
    },
    {
     "name": "stdout",
     "output_type": "stream",
     "text": [
      "8 seconds: completed 20000 rows\n"
     ]
    },
    {
     "name": "stderr",
     "output_type": "stream",
     "text": [
      "/home/char/.virtualenvs/data-science/lib/python3.6/site-packages/IPython/core/interactiveshell.py:2717: DtypeWarning:\n",
      "\n",
      "Columns (8,17,39,40,41,43,44,45,46,47) have mixed types. Specify dtype option on import or set low_memory=False.\n",
      "\n"
     ]
    },
    {
     "name": "stdout",
     "output_type": "stream",
     "text": [
      "15 seconds: completed 40000 rows\n"
     ]
    },
    {
     "name": "stderr",
     "output_type": "stream",
     "text": [
      "/home/char/.virtualenvs/data-science/lib/python3.6/site-packages/IPython/core/interactiveshell.py:2717: DtypeWarning:\n",
      "\n",
      "Columns (8,17,39,40,41,43,44,45,46,47,48,49) have mixed types. Specify dtype option on import or set low_memory=False.\n",
      "\n"
     ]
    },
    {
     "name": "stdout",
     "output_type": "stream",
     "text": [
      "23 seconds: completed 60000 rows\n"
     ]
    },
    {
     "name": "stderr",
     "output_type": "stream",
     "text": [
      "/home/char/.virtualenvs/data-science/lib/python3.6/site-packages/IPython/core/interactiveshell.py:2717: DtypeWarning:\n",
      "\n",
      "Columns (8,48,49) have mixed types. Specify dtype option on import or set low_memory=False.\n",
      "\n"
     ]
    },
    {
     "name": "stdout",
     "output_type": "stream",
     "text": [
      "30 seconds: completed 80000 rows\n"
     ]
    },
    {
     "name": "stderr",
     "output_type": "stream",
     "text": [
      "/home/char/.virtualenvs/data-science/lib/python3.6/site-packages/IPython/core/interactiveshell.py:2717: DtypeWarning:\n",
      "\n",
      "Columns (8,39) have mixed types. Specify dtype option on import or set low_memory=False.\n",
      "\n"
     ]
    },
    {
     "name": "stdout",
     "output_type": "stream",
     "text": [
      "38 seconds: completed 100000 rows\n"
     ]
    },
    {
     "name": "stderr",
     "output_type": "stream",
     "text": [
      "/home/char/.virtualenvs/data-science/lib/python3.6/site-packages/IPython/core/interactiveshell.py:2717: DtypeWarning:\n",
      "\n",
      "Columns (8) have mixed types. Specify dtype option on import or set low_memory=False.\n",
      "\n"
     ]
    },
    {
     "name": "stdout",
     "output_type": "stream",
     "text": [
      "45 seconds: completed 120000 rows\n",
      "52 seconds: completed 140000 rows\n",
      "60 seconds: completed 160000 rows\n"
     ]
    },
    {
     "name": "stderr",
     "output_type": "stream",
     "text": [
      "/home/char/.virtualenvs/data-science/lib/python3.6/site-packages/IPython/core/interactiveshell.py:2717: DtypeWarning:\n",
      "\n",
      "Columns (8,48) have mixed types. Specify dtype option on import or set low_memory=False.\n",
      "\n"
     ]
    },
    {
     "name": "stdout",
     "output_type": "stream",
     "text": [
      "67 seconds: completed 180000 rows\n"
     ]
    },
    {
     "name": "stderr",
     "output_type": "stream",
     "text": [
      "/home/char/.virtualenvs/data-science/lib/python3.6/site-packages/IPython/core/interactiveshell.py:2717: DtypeWarning:\n",
      "\n",
      "Columns (47) have mixed types. Specify dtype option on import or set low_memory=False.\n",
      "\n"
     ]
    },
    {
     "name": "stdout",
     "output_type": "stream",
     "text": [
      "74 seconds: completed 200000 rows\n"
     ]
    },
    {
     "name": "stderr",
     "output_type": "stream",
     "text": [
      "/home/char/.virtualenvs/data-science/lib/python3.6/site-packages/IPython/core/interactiveshell.py:2717: DtypeWarning:\n",
      "\n",
      "Columns (48) have mixed types. Specify dtype option on import or set low_memory=False.\n",
      "\n"
     ]
    },
    {
     "name": "stdout",
     "output_type": "stream",
     "text": [
      "82 seconds: completed 220000 rows\n"
     ]
    },
    {
     "name": "stderr",
     "output_type": "stream",
     "text": [
      "/home/char/.virtualenvs/data-science/lib/python3.6/site-packages/IPython/core/interactiveshell.py:2717: DtypeWarning:\n",
      "\n",
      "Columns (8,41,48) have mixed types. Specify dtype option on import or set low_memory=False.\n",
      "\n"
     ]
    },
    {
     "name": "stdout",
     "output_type": "stream",
     "text": [
      "89 seconds: completed 240000 rows\n"
     ]
    },
    {
     "name": "stderr",
     "output_type": "stream",
     "text": [
      "/home/char/.virtualenvs/data-science/lib/python3.6/site-packages/IPython/core/interactiveshell.py:2717: DtypeWarning:\n",
      "\n",
      "Columns (8,17,39,40,41,42,43,44,45,46,47,48) have mixed types. Specify dtype option on import or set low_memory=False.\n",
      "\n"
     ]
    },
    {
     "name": "stdout",
     "output_type": "stream",
     "text": [
      "96 seconds: completed 260000 rows\n",
      "104 seconds: completed 280000 rows\n",
      "112 seconds: completed 300000 rows\n"
     ]
    },
    {
     "name": "stderr",
     "output_type": "stream",
     "text": [
      "/home/char/.virtualenvs/data-science/lib/python3.6/site-packages/IPython/core/interactiveshell.py:2717: DtypeWarning:\n",
      "\n",
      "Columns (8,39,47,48) have mixed types. Specify dtype option on import or set low_memory=False.\n",
      "\n"
     ]
    },
    {
     "name": "stdout",
     "output_type": "stream",
     "text": [
      "120 seconds: completed 320000 rows\n"
     ]
    },
    {
     "name": "stderr",
     "output_type": "stream",
     "text": [
      "/home/char/.virtualenvs/data-science/lib/python3.6/site-packages/IPython/core/interactiveshell.py:2717: DtypeWarning:\n",
      "\n",
      "Columns (8,39,41,48) have mixed types. Specify dtype option on import or set low_memory=False.\n",
      "\n"
     ]
    },
    {
     "name": "stdout",
     "output_type": "stream",
     "text": [
      "128 seconds: completed 340000 rows\n"
     ]
    },
    {
     "name": "stderr",
     "output_type": "stream",
     "text": [
      "/home/char/.virtualenvs/data-science/lib/python3.6/site-packages/IPython/core/interactiveshell.py:2717: DtypeWarning:\n",
      "\n",
      "Columns (8,39,48,49) have mixed types. Specify dtype option on import or set low_memory=False.\n",
      "\n"
     ]
    },
    {
     "name": "stdout",
     "output_type": "stream",
     "text": [
      "136 seconds: completed 360000 rows\n",
      "143 seconds: completed 380000 rows\n"
     ]
    },
    {
     "name": "stderr",
     "output_type": "stream",
     "text": [
      "/home/char/.virtualenvs/data-science/lib/python3.6/site-packages/IPython/core/interactiveshell.py:2717: DtypeWarning:\n",
      "\n",
      "Columns (47,48) have mixed types. Specify dtype option on import or set low_memory=False.\n",
      "\n"
     ]
    },
    {
     "name": "stdout",
     "output_type": "stream",
     "text": [
      "150 seconds: completed 400000 rows\n",
      "158 seconds: completed 420000 rows\n",
      "165 seconds: completed 440000 rows\n"
     ]
    },
    {
     "name": "stderr",
     "output_type": "stream",
     "text": [
      "/home/char/.virtualenvs/data-science/lib/python3.6/site-packages/IPython/core/interactiveshell.py:2717: DtypeWarning:\n",
      "\n",
      "Columns (48,49) have mixed types. Specify dtype option on import or set low_memory=False.\n",
      "\n"
     ]
    },
    {
     "name": "stdout",
     "output_type": "stream",
     "text": [
      "172 seconds: completed 460000 rows\n"
     ]
    },
    {
     "name": "stderr",
     "output_type": "stream",
     "text": [
      "/home/char/.virtualenvs/data-science/lib/python3.6/site-packages/IPython/core/interactiveshell.py:2717: DtypeWarning:\n",
      "\n",
      "Columns (8,47,48) have mixed types. Specify dtype option on import or set low_memory=False.\n",
      "\n"
     ]
    },
    {
     "name": "stdout",
     "output_type": "stream",
     "text": [
      "179 seconds: completed 480000 rows\n"
     ]
    },
    {
     "name": "stderr",
     "output_type": "stream",
     "text": [
      "/home/char/.virtualenvs/data-science/lib/python3.6/site-packages/IPython/core/interactiveshell.py:2717: DtypeWarning:\n",
      "\n",
      "Columns (8,39,47) have mixed types. Specify dtype option on import or set low_memory=False.\n",
      "\n"
     ]
    },
    {
     "name": "stdout",
     "output_type": "stream",
     "text": [
      "187 seconds: completed 500000 rows\n"
     ]
    },
    {
     "name": "stderr",
     "output_type": "stream",
     "text": [
      "/home/char/.virtualenvs/data-science/lib/python3.6/site-packages/IPython/core/interactiveshell.py:2717: DtypeWarning:\n",
      "\n",
      "Columns (8,47) have mixed types. Specify dtype option on import or set low_memory=False.\n",
      "\n"
     ]
    },
    {
     "name": "stdout",
     "output_type": "stream",
     "text": [
      "194 seconds: completed 520000 rows\n"
     ]
    },
    {
     "name": "stderr",
     "output_type": "stream",
     "text": [
      "/home/char/.virtualenvs/data-science/lib/python3.6/site-packages/IPython/core/interactiveshell.py:2717: DtypeWarning:\n",
      "\n",
      "Columns (8,43,44,45,46,47,48) have mixed types. Specify dtype option on import or set low_memory=False.\n",
      "\n"
     ]
    },
    {
     "name": "stdout",
     "output_type": "stream",
     "text": [
      "201 seconds: completed 540000 rows\n",
      "208 seconds: completed 560000 rows\n",
      "215 seconds: completed 580000 rows\n",
      "223 seconds: completed 600000 rows\n",
      "230 seconds: completed 620000 rows\n",
      "237 seconds: completed 640000 rows\n",
      "244 seconds: completed 660000 rows\n"
     ]
    },
    {
     "name": "stderr",
     "output_type": "stream",
     "text": [
      "/home/char/.virtualenvs/data-science/lib/python3.6/site-packages/IPython/core/interactiveshell.py:2717: DtypeWarning:\n",
      "\n",
      "Columns (39,47,48,49) have mixed types. Specify dtype option on import or set low_memory=False.\n",
      "\n"
     ]
    },
    {
     "name": "stdout",
     "output_type": "stream",
     "text": [
      "251 seconds: completed 680000 rows\n"
     ]
    },
    {
     "name": "stderr",
     "output_type": "stream",
     "text": [
      "/home/char/.virtualenvs/data-science/lib/python3.6/site-packages/IPython/core/interactiveshell.py:2717: DtypeWarning:\n",
      "\n",
      "Columns (39) have mixed types. Specify dtype option on import or set low_memory=False.\n",
      "\n"
     ]
    },
    {
     "name": "stdout",
     "output_type": "stream",
     "text": [
      "259 seconds: completed 700000 rows\n",
      "266 seconds: completed 720000 rows\n"
     ]
    },
    {
     "name": "stderr",
     "output_type": "stream",
     "text": [
      "/home/char/.virtualenvs/data-science/lib/python3.6/site-packages/IPython/core/interactiveshell.py:2717: DtypeWarning:\n",
      "\n",
      "Columns (40,41) have mixed types. Specify dtype option on import or set low_memory=False.\n",
      "\n"
     ]
    },
    {
     "name": "stdout",
     "output_type": "stream",
     "text": [
      "273 seconds: completed 740000 rows\n",
      "280 seconds: completed 760000 rows\n",
      "287 seconds: completed 780000 rows\n"
     ]
    },
    {
     "name": "stderr",
     "output_type": "stream",
     "text": [
      "/home/char/.virtualenvs/data-science/lib/python3.6/site-packages/IPython/core/interactiveshell.py:2717: DtypeWarning:\n",
      "\n",
      "Columns (8,39,40,41,47) have mixed types. Specify dtype option on import or set low_memory=False.\n",
      "\n"
     ]
    },
    {
     "name": "stdout",
     "output_type": "stream",
     "text": [
      "295 seconds: completed 800000 rows\n",
      "302 seconds: completed 820000 rows\n",
      "309 seconds: completed 840000 rows\n",
      "316 seconds: completed 860000 rows\n"
     ]
    },
    {
     "name": "stderr",
     "output_type": "stream",
     "text": [
      "/home/char/.virtualenvs/data-science/lib/python3.6/site-packages/IPython/core/interactiveshell.py:2717: DtypeWarning:\n",
      "\n",
      "Columns (39,48) have mixed types. Specify dtype option on import or set low_memory=False.\n",
      "\n"
     ]
    },
    {
     "name": "stdout",
     "output_type": "stream",
     "text": [
      "324 seconds: completed 880000 rows\n"
     ]
    },
    {
     "name": "stderr",
     "output_type": "stream",
     "text": [
      "/home/char/.virtualenvs/data-science/lib/python3.6/site-packages/IPython/core/interactiveshell.py:2717: DtypeWarning:\n",
      "\n",
      "Columns (8,40,41,47,48) have mixed types. Specify dtype option on import or set low_memory=False.\n",
      "\n"
     ]
    },
    {
     "name": "stdout",
     "output_type": "stream",
     "text": [
      "331 seconds: completed 900000 rows\n",
      "338 seconds: completed 920000 rows\n",
      "345 seconds: completed 940000 rows\n",
      "353 seconds: completed 960000 rows\n",
      "360 seconds: completed 980000 rows\n"
     ]
    },
    {
     "name": "stderr",
     "output_type": "stream",
     "text": [
      "/home/char/.virtualenvs/data-science/lib/python3.6/site-packages/IPython/core/interactiveshell.py:2717: DtypeWarning:\n",
      "\n",
      "Columns (8,40,43,44,45,46,48,49) have mixed types. Specify dtype option on import or set low_memory=False.\n",
      "\n"
     ]
    },
    {
     "name": "stdout",
     "output_type": "stream",
     "text": [
      "367 seconds: completed 1000000 rows\n",
      "374 seconds: completed 1020000 rows\n",
      "381 seconds: completed 1040000 rows\n",
      "388 seconds: completed 1060000 rows\n",
      "396 seconds: completed 1080000 rows\n",
      "403 seconds: completed 1100000 rows\n",
      "410 seconds: completed 1120000 rows\n",
      "417 seconds: completed 1140000 rows\n",
      "426 seconds: completed 1160000 rows\n",
      "436 seconds: completed 1180000 rows\n",
      "444 seconds: completed 1200000 rows\n",
      "452 seconds: completed 1220000 rows\n",
      "462 seconds: completed 1240000 rows\n"
     ]
    },
    {
     "name": "stderr",
     "output_type": "stream",
     "text": [
      "/home/char/.virtualenvs/data-science/lib/python3.6/site-packages/IPython/core/interactiveshell.py:2717: DtypeWarning:\n",
      "\n",
      "Columns (17,39) have mixed types. Specify dtype option on import or set low_memory=False.\n",
      "\n"
     ]
    },
    {
     "name": "stdout",
     "output_type": "stream",
     "text": [
      "474 seconds: completed 1260000 rows\n"
     ]
    },
    {
     "name": "stderr",
     "output_type": "stream",
     "text": [
      "/home/char/.virtualenvs/data-science/lib/python3.6/site-packages/IPython/core/interactiveshell.py:2717: DtypeWarning:\n",
      "\n",
      "Columns (8,17,39,40,41,42,43,44,45,46,47,48,49) have mixed types. Specify dtype option on import or set low_memory=False.\n",
      "\n"
     ]
    },
    {
     "name": "stdout",
     "output_type": "stream",
     "text": [
      "482 seconds: completed 1280000 rows\n",
      "490 seconds: completed 1300000 rows\n",
      "499 seconds: completed 1320000 rows\n",
      "507 seconds: completed 1340000 rows\n",
      "515 seconds: completed 1360000 rows\n",
      "523 seconds: completed 1380000 rows\n"
     ]
    },
    {
     "name": "stderr",
     "output_type": "stream",
     "text": [
      "/home/char/.virtualenvs/data-science/lib/python3.6/site-packages/IPython/core/interactiveshell.py:2717: DtypeWarning:\n",
      "\n",
      "Columns (17,39,40,41,42,43,44,45,46,47,48,49) have mixed types. Specify dtype option on import or set low_memory=False.\n",
      "\n"
     ]
    },
    {
     "name": "stdout",
     "output_type": "stream",
     "text": [
      "531 seconds: completed 1400000 rows\n"
     ]
    },
    {
     "name": "stderr",
     "output_type": "stream",
     "text": [
      "/home/char/.virtualenvs/data-science/lib/python3.6/site-packages/IPython/core/interactiveshell.py:2717: DtypeWarning:\n",
      "\n",
      "Columns (8,40,41,47) have mixed types. Specify dtype option on import or set low_memory=False.\n",
      "\n"
     ]
    },
    {
     "name": "stdout",
     "output_type": "stream",
     "text": [
      "539 seconds: completed 1420000 rows\n",
      "548 seconds: completed 1440000 rows\n",
      "557 seconds: completed 1460000 rows\n",
      "565 seconds: completed 1480000 rows\n",
      "573 seconds: completed 1500000 rows\n"
     ]
    },
    {
     "name": "stderr",
     "output_type": "stream",
     "text": [
      "/home/char/.virtualenvs/data-science/lib/python3.6/site-packages/IPython/core/interactiveshell.py:2717: DtypeWarning:\n",
      "\n",
      "Columns (8,39,48) have mixed types. Specify dtype option on import or set low_memory=False.\n",
      "\n"
     ]
    },
    {
     "name": "stdout",
     "output_type": "stream",
     "text": [
      "581 seconds: completed 1520000 rows\n"
     ]
    },
    {
     "name": "stderr",
     "output_type": "stream",
     "text": [
      "/home/char/.virtualenvs/data-science/lib/python3.6/site-packages/IPython/core/interactiveshell.py:2717: DtypeWarning:\n",
      "\n",
      "Columns (8,17,47) have mixed types. Specify dtype option on import or set low_memory=False.\n",
      "\n"
     ]
    },
    {
     "name": "stdout",
     "output_type": "stream",
     "text": [
      "590 seconds: completed 1540000 rows\n",
      "598 seconds: completed 1560000 rows\n"
     ]
    },
    {
     "name": "stderr",
     "output_type": "stream",
     "text": [
      "/home/char/.virtualenvs/data-science/lib/python3.6/site-packages/IPython/core/interactiveshell.py:2717: DtypeWarning:\n",
      "\n",
      "Columns (17) have mixed types. Specify dtype option on import or set low_memory=False.\n",
      "\n"
     ]
    },
    {
     "name": "stdout",
     "output_type": "stream",
     "text": [
      "606 seconds: completed 1580000 rows\n",
      "614 seconds: completed 1600000 rows\n",
      "622 seconds: completed 1620000 rows\n",
      "630 seconds: completed 1640000 rows\n",
      "639 seconds: completed 1660000 rows\n",
      "646 seconds: completed 1680000 rows\n"
     ]
    },
    {
     "name": "stderr",
     "output_type": "stream",
     "text": [
      "/home/char/.virtualenvs/data-science/lib/python3.6/site-packages/IPython/core/interactiveshell.py:2717: DtypeWarning:\n",
      "\n",
      "Columns (8,47,48,49) have mixed types. Specify dtype option on import or set low_memory=False.\n",
      "\n"
     ]
    },
    {
     "name": "stdout",
     "output_type": "stream",
     "text": [
      "654 seconds: completed 1700000 rows\n",
      "661 seconds: completed 1720000 rows\n",
      "668 seconds: completed 1740000 rows\n",
      "675 seconds: completed 1760000 rows\n",
      "682 seconds: completed 1780000 rows\n"
     ]
    },
    {
     "name": "stderr",
     "output_type": "stream",
     "text": [
      "/home/char/.virtualenvs/data-science/lib/python3.6/site-packages/IPython/core/interactiveshell.py:2717: DtypeWarning:\n",
      "\n",
      "Columns (17,48) have mixed types. Specify dtype option on import or set low_memory=False.\n",
      "\n"
     ]
    },
    {
     "name": "stdout",
     "output_type": "stream",
     "text": [
      "688 seconds: completed 1800000 rows\n",
      "694 seconds: completed 1820000 rows\n",
      "701 seconds: completed 1840000 rows\n",
      "708 seconds: completed 1860000 rows\n",
      "715 seconds: completed 1880000 rows\n",
      "721 seconds: completed 1900000 rows\n",
      "728 seconds: completed 1920000 rows\n",
      "734 seconds: completed 1940000 rows\n",
      "741 seconds: completed 1960000 rows\n",
      "748 seconds: completed 1980000 rows\n",
      "755 seconds: completed 2000000 rows\n",
      "761 seconds: completed 2020000 rows\n",
      "768 seconds: completed 2040000 rows\n"
     ]
    },
    {
     "name": "stderr",
     "output_type": "stream",
     "text": [
      "/home/char/.virtualenvs/data-science/lib/python3.6/site-packages/IPython/core/interactiveshell.py:2717: DtypeWarning:\n",
      "\n",
      "Columns (8,17,40,41,47,48,49) have mixed types. Specify dtype option on import or set low_memory=False.\n",
      "\n"
     ]
    },
    {
     "name": "stdout",
     "output_type": "stream",
     "text": [
      "775 seconds: completed 2060000 rows\n",
      "782 seconds: completed 2080000 rows\n",
      "788 seconds: completed 2100000 rows\n",
      "796 seconds: completed 2120000 rows\n",
      "802 seconds: completed 2140000 rows\n",
      "809 seconds: completed 2160000 rows\n",
      "816 seconds: completed 2180000 rows\n",
      "823 seconds: completed 2200000 rows\n",
      "830 seconds: completed 2220000 rows\n",
      "836 seconds: completed 2240000 rows\n",
      "843 seconds: completed 2260000 rows\n",
      "850 seconds: completed 2280000 rows\n",
      "858 seconds: completed 2300000 rows\n",
      "865 seconds: completed 2320000 rows\n"
     ]
    },
    {
     "name": "stderr",
     "output_type": "stream",
     "text": [
      "/home/char/.virtualenvs/data-science/lib/python3.6/site-packages/IPython/core/interactiveshell.py:2717: DtypeWarning:\n",
      "\n",
      "Columns (39,40,41,48) have mixed types. Specify dtype option on import or set low_memory=False.\n",
      "\n"
     ]
    },
    {
     "name": "stdout",
     "output_type": "stream",
     "text": [
      "872 seconds: completed 2340000 rows\n",
      "880 seconds: completed 2360000 rows\n"
     ]
    },
    {
     "name": "stderr",
     "output_type": "stream",
     "text": [
      "/home/char/.virtualenvs/data-science/lib/python3.6/site-packages/IPython/core/interactiveshell.py:2717: DtypeWarning:\n",
      "\n",
      "Columns (39,47,48) have mixed types. Specify dtype option on import or set low_memory=False.\n",
      "\n"
     ]
    },
    {
     "name": "stdout",
     "output_type": "stream",
     "text": [
      "887 seconds: completed 2380000 rows\n",
      "894 seconds: completed 2400000 rows\n",
      "902 seconds: completed 2420000 rows\n",
      "909 seconds: completed 2440000 rows\n",
      "916 seconds: completed 2460000 rows\n",
      "923 seconds: completed 2480000 rows\n",
      "931 seconds: completed 2500000 rows\n",
      "938 seconds: completed 2520000 rows\n",
      "945 seconds: completed 2540000 rows\n",
      "952 seconds: completed 2560000 rows\n"
     ]
    },
    {
     "name": "stderr",
     "output_type": "stream",
     "text": [
      "/home/char/.virtualenvs/data-science/lib/python3.6/site-packages/IPython/core/interactiveshell.py:2717: DtypeWarning:\n",
      "\n",
      "Columns (8,17,39,47) have mixed types. Specify dtype option on import or set low_memory=False.\n",
      "\n"
     ]
    },
    {
     "name": "stdout",
     "output_type": "stream",
     "text": [
      "960 seconds: completed 2580000 rows\n"
     ]
    },
    {
     "name": "stderr",
     "output_type": "stream",
     "text": [
      "/home/char/.virtualenvs/data-science/lib/python3.6/site-packages/IPython/core/interactiveshell.py:2717: DtypeWarning:\n",
      "\n",
      "Columns (17,39,40,43,44,45,46,47) have mixed types. Specify dtype option on import or set low_memory=False.\n",
      "\n"
     ]
    },
    {
     "name": "stdout",
     "output_type": "stream",
     "text": [
      "967 seconds: completed 2600000 rows\n",
      "974 seconds: completed 2620000 rows\n",
      "981 seconds: completed 2640000 rows\n",
      "988 seconds: completed 2660000 rows\n",
      "998 seconds: completed 2680000 rows\n",
      "1006 seconds: completed 2700000 rows\n",
      "1014 seconds: completed 2720000 rows\n",
      "1022 seconds: completed 2740000 rows\n"
     ]
    },
    {
     "name": "stderr",
     "output_type": "stream",
     "text": [
      "/home/char/.virtualenvs/data-science/lib/python3.6/site-packages/IPython/core/interactiveshell.py:2717: DtypeWarning:\n",
      "\n",
      "Columns (39,41,48) have mixed types. Specify dtype option on import or set low_memory=False.\n",
      "\n"
     ]
    },
    {
     "name": "stdout",
     "output_type": "stream",
     "text": [
      "1030 seconds: completed 2760000 rows\n",
      "1039 seconds: completed 2780000 rows\n",
      "1047 seconds: completed 2800000 rows\n",
      "1054 seconds: completed 2820000 rows\n"
     ]
    },
    {
     "name": "stderr",
     "output_type": "stream",
     "text": [
      "/home/char/.virtualenvs/data-science/lib/python3.6/site-packages/IPython/core/interactiveshell.py:2717: DtypeWarning:\n",
      "\n",
      "Columns (39,47) have mixed types. Specify dtype option on import or set low_memory=False.\n",
      "\n"
     ]
    },
    {
     "name": "stdout",
     "output_type": "stream",
     "text": [
      "1062 seconds: completed 2840000 rows\n",
      "1070 seconds: completed 2860000 rows\n",
      "1077 seconds: completed 2880000 rows\n",
      "1085 seconds: completed 2900000 rows\n",
      "1093 seconds: completed 2920000 rows\n",
      "1101 seconds: completed 2940000 rows\n",
      "1110 seconds: completed 2960000 rows\n",
      "1118 seconds: completed 2980000 rows\n",
      "1126 seconds: completed 3000000 rows\n"
     ]
    },
    {
     "name": "stderr",
     "output_type": "stream",
     "text": [
      "/home/char/.virtualenvs/data-science/lib/python3.6/site-packages/IPython/core/interactiveshell.py:2717: DtypeWarning:\n",
      "\n",
      "Columns (8,17,48) have mixed types. Specify dtype option on import or set low_memory=False.\n",
      "\n"
     ]
    },
    {
     "name": "stdout",
     "output_type": "stream",
     "text": [
      "1135 seconds: completed 3020000 rows\n",
      "1144 seconds: completed 3040000 rows\n",
      "1152 seconds: completed 3060000 rows\n",
      "1160 seconds: completed 3080000 rows\n",
      "1167 seconds: completed 3100000 rows\n",
      "1175 seconds: completed 3120000 rows\n",
      "1184 seconds: completed 3140000 rows\n",
      "1191 seconds: completed 3160000 rows\n",
      "1198 seconds: completed 3180000 rows\n",
      "1206 seconds: completed 3200000 rows\n",
      "1214 seconds: completed 3220000 rows\n"
     ]
    },
    {
     "name": "stderr",
     "output_type": "stream",
     "text": [
      "/home/char/.virtualenvs/data-science/lib/python3.6/site-packages/IPython/core/interactiveshell.py:2717: DtypeWarning:\n",
      "\n",
      "Columns (8,17,48,49) have mixed types. Specify dtype option on import or set low_memory=False.\n",
      "\n"
     ]
    },
    {
     "name": "stdout",
     "output_type": "stream",
     "text": [
      "1221 seconds: completed 3240000 rows\n"
     ]
    },
    {
     "name": "stderr",
     "output_type": "stream",
     "text": [
      "/home/char/.virtualenvs/data-science/lib/python3.6/site-packages/IPython/core/interactiveshell.py:2717: DtypeWarning:\n",
      "\n",
      "Columns (17,40,41,47) have mixed types. Specify dtype option on import or set low_memory=False.\n",
      "\n"
     ]
    },
    {
     "name": "stdout",
     "output_type": "stream",
     "text": [
      "1229 seconds: completed 3260000 rows\n",
      "1236 seconds: completed 3280000 rows\n",
      "1244 seconds: completed 3300000 rows\n"
     ]
    },
    {
     "name": "stderr",
     "output_type": "stream",
     "text": [
      "/home/char/.virtualenvs/data-science/lib/python3.6/site-packages/IPython/core/interactiveshell.py:2717: DtypeWarning:\n",
      "\n",
      "Columns (17,47,48,49) have mixed types. Specify dtype option on import or set low_memory=False.\n",
      "\n"
     ]
    },
    {
     "name": "stdout",
     "output_type": "stream",
     "text": [
      "1251 seconds: completed 3320000 rows\n"
     ]
    },
    {
     "name": "stderr",
     "output_type": "stream",
     "text": [
      "/home/char/.virtualenvs/data-science/lib/python3.6/site-packages/IPython/core/interactiveshell.py:2717: DtypeWarning:\n",
      "\n",
      "Columns (17,40,41,48) have mixed types. Specify dtype option on import or set low_memory=False.\n",
      "\n"
     ]
    },
    {
     "name": "stdout",
     "output_type": "stream",
     "text": [
      "1258 seconds: completed 3340000 rows\n",
      "1266 seconds: completed 3360000 rows\n",
      "1273 seconds: completed 3380000 rows\n",
      "1280 seconds: completed 3400000 rows\n"
     ]
    },
    {
     "name": "stderr",
     "output_type": "stream",
     "text": [
      "/home/char/.virtualenvs/data-science/lib/python3.6/site-packages/IPython/core/interactiveshell.py:2717: DtypeWarning:\n",
      "\n",
      "Columns (43,44,45,46,48) have mixed types. Specify dtype option on import or set low_memory=False.\n",
      "\n"
     ]
    },
    {
     "name": "stdout",
     "output_type": "stream",
     "text": [
      "1288 seconds: completed 3420000 rows\n",
      "1295 seconds: completed 3440000 rows\n",
      "1302 seconds: completed 3460000 rows\n",
      "1309 seconds: completed 3480000 rows\n",
      "1317 seconds: completed 3500000 rows\n",
      "1324 seconds: completed 3520000 rows\n",
      "1332 seconds: completed 3540000 rows\n",
      "1339 seconds: completed 3560000 rows\n",
      "1346 seconds: completed 3580000 rows\n",
      "1354 seconds: completed 3600000 rows\n",
      "1361 seconds: completed 3620000 rows\n",
      "1368 seconds: completed 3640000 rows\n",
      "1375 seconds: completed 3660000 rows\n",
      "1383 seconds: completed 3680000 rows\n",
      "1390 seconds: completed 3700000 rows\n"
     ]
    },
    {
     "name": "stderr",
     "output_type": "stream",
     "text": [
      "/home/char/.virtualenvs/data-science/lib/python3.6/site-packages/IPython/core/interactiveshell.py:2717: DtypeWarning:\n",
      "\n",
      "Columns (8,17,40) have mixed types. Specify dtype option on import or set low_memory=False.\n",
      "\n"
     ]
    },
    {
     "name": "stdout",
     "output_type": "stream",
     "text": [
      "1397 seconds: completed 3720000 rows\n",
      "1405 seconds: completed 3740000 rows\n",
      "1412 seconds: completed 3760000 rows\n",
      "1419 seconds: completed 3780000 rows\n",
      "1427 seconds: completed 3800000 rows\n",
      "1435 seconds: completed 3820000 rows\n",
      "1442 seconds: completed 3840000 rows\n",
      "1449 seconds: completed 3860000 rows\n",
      "1456 seconds: completed 3880000 rows\n",
      "1463 seconds: completed 3900000 rows\n",
      "1471 seconds: completed 3920000 rows\n",
      "1479 seconds: completed 3940000 rows\n",
      "1486 seconds: completed 3960000 rows\n",
      "1493 seconds: completed 3980000 rows\n",
      "1500 seconds: completed 4000000 rows\n",
      "1508 seconds: completed 4020000 rows\n",
      "1515 seconds: completed 4040000 rows\n",
      "1522 seconds: completed 4060000 rows\n"
     ]
    },
    {
     "name": "stderr",
     "output_type": "stream",
     "text": [
      "/home/char/.virtualenvs/data-science/lib/python3.6/site-packages/IPython/core/interactiveshell.py:2717: DtypeWarning:\n",
      "\n",
      "Columns (8,41) have mixed types. Specify dtype option on import or set low_memory=False.\n",
      "\n"
     ]
    },
    {
     "name": "stdout",
     "output_type": "stream",
     "text": [
      "1530 seconds: completed 4080000 rows\n",
      "1537 seconds: completed 4100000 rows\n"
     ]
    },
    {
     "name": "stderr",
     "output_type": "stream",
     "text": [
      "/home/char/.virtualenvs/data-science/lib/python3.6/site-packages/IPython/core/interactiveshell.py:2717: DtypeWarning:\n",
      "\n",
      "Columns (8,41,48,49) have mixed types. Specify dtype option on import or set low_memory=False.\n",
      "\n"
     ]
    },
    {
     "name": "stdout",
     "output_type": "stream",
     "text": [
      "1545 seconds: completed 4120000 rows\n",
      "1553 seconds: completed 4140000 rows\n",
      "1561 seconds: completed 4160000 rows\n",
      "1568 seconds: completed 4180000 rows\n",
      "1576 seconds: completed 4200000 rows\n",
      "1583 seconds: completed 4220000 rows\n",
      "1590 seconds: completed 4240000 rows\n"
     ]
    },
    {
     "name": "stderr",
     "output_type": "stream",
     "text": [
      "/home/char/.virtualenvs/data-science/lib/python3.6/site-packages/IPython/core/interactiveshell.py:2717: DtypeWarning:\n",
      "\n",
      "Columns (8,40,48) have mixed types. Specify dtype option on import or set low_memory=False.\n",
      "\n"
     ]
    },
    {
     "name": "stdout",
     "output_type": "stream",
     "text": [
      "1597 seconds: completed 4260000 rows\n",
      "1604 seconds: completed 4280000 rows\n",
      "1612 seconds: completed 4300000 rows\n",
      "1619 seconds: completed 4320000 rows\n",
      "1626 seconds: completed 4340000 rows\n",
      "1633 seconds: completed 4360000 rows\n",
      "1640 seconds: completed 4380000 rows\n",
      "1648 seconds: completed 4400000 rows\n",
      "1655 seconds: completed 4420000 rows\n",
      "1662 seconds: completed 4440000 rows\n",
      "1669 seconds: completed 4460000 rows\n",
      "1676 seconds: completed 4480000 rows\n",
      "1684 seconds: completed 4500000 rows\n",
      "1691 seconds: completed 4520000 rows\n"
     ]
    },
    {
     "name": "stderr",
     "output_type": "stream",
     "text": [
      "/home/char/.virtualenvs/data-science/lib/python3.6/site-packages/IPython/core/interactiveshell.py:2717: DtypeWarning:\n",
      "\n",
      "Columns (17,40,47) have mixed types. Specify dtype option on import or set low_memory=False.\n",
      "\n"
     ]
    },
    {
     "name": "stdout",
     "output_type": "stream",
     "text": [
      "1698 seconds: completed 4540000 rows\n"
     ]
    },
    {
     "name": "stderr",
     "output_type": "stream",
     "text": [
      "/home/char/.virtualenvs/data-science/lib/python3.6/site-packages/IPython/core/interactiveshell.py:2717: DtypeWarning:\n",
      "\n",
      "Columns (8,17) have mixed types. Specify dtype option on import or set low_memory=False.\n",
      "\n"
     ]
    },
    {
     "name": "stdout",
     "output_type": "stream",
     "text": [
      "1705 seconds: completed 4560000 rows\n",
      "1713 seconds: completed 4580000 rows\n",
      "1720 seconds: completed 4600000 rows\n",
      "1727 seconds: completed 4620000 rows\n"
     ]
    },
    {
     "name": "stderr",
     "output_type": "stream",
     "text": [
      "/home/char/.virtualenvs/data-science/lib/python3.6/site-packages/IPython/core/interactiveshell.py:2717: DtypeWarning:\n",
      "\n",
      "Columns (8,17,40,41,48,49) have mixed types. Specify dtype option on import or set low_memory=False.\n",
      "\n"
     ]
    },
    {
     "name": "stdout",
     "output_type": "stream",
     "text": [
      "1735 seconds: completed 4640000 rows\n",
      "1742 seconds: completed 4660000 rows\n",
      "1749 seconds: completed 4680000 rows\n"
     ]
    },
    {
     "name": "stderr",
     "output_type": "stream",
     "text": [
      "/home/char/.virtualenvs/data-science/lib/python3.6/site-packages/IPython/core/interactiveshell.py:2717: DtypeWarning:\n",
      "\n",
      "Columns (17,47,48) have mixed types. Specify dtype option on import or set low_memory=False.\n",
      "\n"
     ]
    },
    {
     "name": "stdout",
     "output_type": "stream",
     "text": [
      "1756 seconds: completed 4700000 rows\n",
      "1763 seconds: completed 4720000 rows\n",
      "1771 seconds: completed 4740000 rows\n",
      "1778 seconds: completed 4760000 rows\n",
      "1785 seconds: completed 4780000 rows\n",
      "1792 seconds: completed 4800000 rows\n",
      "1800 seconds: completed 4820000 rows\n",
      "1807 seconds: completed 4840000 rows\n",
      "1814 seconds: completed 4860000 rows\n",
      "1821 seconds: completed 4880000 rows\n",
      "1829 seconds: completed 4900000 rows\n"
     ]
    },
    {
     "name": "stderr",
     "output_type": "stream",
     "text": [
      "/home/char/.virtualenvs/data-science/lib/python3.6/site-packages/IPython/core/interactiveshell.py:2717: DtypeWarning:\n",
      "\n",
      "Columns (8,17,47,48,49) have mixed types. Specify dtype option on import or set low_memory=False.\n",
      "\n"
     ]
    },
    {
     "name": "stdout",
     "output_type": "stream",
     "text": [
      "1836 seconds: completed 4920000 rows\n",
      "1843 seconds: completed 4940000 rows\n",
      "1851 seconds: completed 4960000 rows\n"
     ]
    },
    {
     "name": "stderr",
     "output_type": "stream",
     "text": [
      "/home/char/.virtualenvs/data-science/lib/python3.6/site-packages/IPython/core/interactiveshell.py:2717: DtypeWarning:\n",
      "\n",
      "Columns (40,41,47,48,49) have mixed types. Specify dtype option on import or set low_memory=False.\n",
      "\n"
     ]
    },
    {
     "name": "stdout",
     "output_type": "stream",
     "text": [
      "1858 seconds: completed 4980000 rows\n"
     ]
    },
    {
     "name": "stderr",
     "output_type": "stream",
     "text": [
      "/home/char/.virtualenvs/data-science/lib/python3.6/site-packages/IPython/core/interactiveshell.py:2717: DtypeWarning:\n",
      "\n",
      "Columns (41,47,48) have mixed types. Specify dtype option on import or set low_memory=False.\n",
      "\n"
     ]
    },
    {
     "name": "stdout",
     "output_type": "stream",
     "text": [
      "1865 seconds: completed 5000000 rows\n",
      "1872 seconds: completed 5020000 rows\n",
      "1879 seconds: completed 5040000 rows\n",
      "1887 seconds: completed 5060000 rows\n",
      "1894 seconds: completed 5080000 rows\n",
      "1901 seconds: completed 5100000 rows\n",
      "1908 seconds: completed 5120000 rows\n",
      "1916 seconds: completed 5140000 rows\n",
      "1923 seconds: completed 5160000 rows\n",
      "1930 seconds: completed 5180000 rows\n",
      "1937 seconds: completed 5200000 rows\n",
      "1945 seconds: completed 5220000 rows\n",
      "1952 seconds: completed 5240000 rows\n",
      "1959 seconds: completed 5260000 rows\n",
      "1966 seconds: completed 5280000 rows\n",
      "1973 seconds: completed 5300000 rows\n",
      "1981 seconds: completed 5320000 rows\n",
      "1988 seconds: completed 5340000 rows\n",
      "1995 seconds: completed 5360000 rows\n",
      "2002 seconds: completed 5380000 rows\n",
      "2009 seconds: completed 5400000 rows\n",
      "2017 seconds: completed 5420000 rows\n",
      "2024 seconds: completed 5440000 rows\n",
      "2031 seconds: completed 5460000 rows\n",
      "2039 seconds: completed 5480000 rows\n",
      "2046 seconds: completed 5500000 rows\n",
      "2053 seconds: completed 5520000 rows\n",
      "2060 seconds: completed 5540000 rows\n",
      "2067 seconds: completed 5560000 rows\n",
      "2076 seconds: completed 5580000 rows\n",
      "2083 seconds: completed 5600000 rows\n",
      "2091 seconds: completed 5620000 rows\n"
     ]
    },
    {
     "name": "stderr",
     "output_type": "stream",
     "text": [
      "/home/char/.virtualenvs/data-science/lib/python3.6/site-packages/IPython/core/interactiveshell.py:2717: DtypeWarning:\n",
      "\n",
      "Columns (40,48) have mixed types. Specify dtype option on import or set low_memory=False.\n",
      "\n"
     ]
    },
    {
     "name": "stdout",
     "output_type": "stream",
     "text": [
      "2099 seconds: completed 5640000 rows\n",
      "2107 seconds: completed 5660000 rows\n"
     ]
    },
    {
     "name": "stderr",
     "output_type": "stream",
     "text": [
      "/home/char/.virtualenvs/data-science/lib/python3.6/site-packages/IPython/core/interactiveshell.py:2717: DtypeWarning:\n",
      "\n",
      "Columns (8,41,47,48) have mixed types. Specify dtype option on import or set low_memory=False.\n",
      "\n"
     ]
    },
    {
     "name": "stdout",
     "output_type": "stream",
     "text": [
      "2115 seconds: completed 5680000 rows\n",
      "2123 seconds: completed 5700000 rows\n",
      "2131 seconds: completed 5720000 rows\n",
      "2139 seconds: completed 5740000 rows\n",
      "2147 seconds: completed 5760000 rows\n",
      "2155 seconds: completed 5780000 rows\n",
      "2164 seconds: completed 5800000 rows\n",
      "2172 seconds: completed 5820000 rows\n",
      "2179 seconds: completed 5840000 rows\n",
      "2188 seconds: completed 5860000 rows\n",
      "2195 seconds: completed 5880000 rows\n",
      "2203 seconds: completed 5900000 rows\n",
      "2211 seconds: completed 5920000 rows\n",
      "2219 seconds: completed 5940000 rows\n",
      "2226 seconds: completed 5960000 rows\n",
      "2234 seconds: completed 5980000 rows\n",
      "2242 seconds: completed 6000000 rows\n"
     ]
    },
    {
     "name": "stderr",
     "output_type": "stream",
     "text": [
      "/home/char/.virtualenvs/data-science/lib/python3.6/site-packages/IPython/core/interactiveshell.py:2717: DtypeWarning:\n",
      "\n",
      "Columns (8,40) have mixed types. Specify dtype option on import or set low_memory=False.\n",
      "\n"
     ]
    },
    {
     "name": "stdout",
     "output_type": "stream",
     "text": [
      "2251 seconds: completed 6020000 rows\n",
      "2259 seconds: completed 6040000 rows\n",
      "2267 seconds: completed 6060000 rows\n",
      "2275 seconds: completed 6080000 rows\n",
      "2283 seconds: completed 6100000 rows\n",
      "2292 seconds: completed 6120000 rows\n",
      "2300 seconds: completed 6140000 rows\n",
      "2308 seconds: completed 6160000 rows\n",
      "2316 seconds: completed 6180000 rows\n",
      "2325 seconds: completed 6200000 rows\n",
      "2334 seconds: completed 6220000 rows\n",
      "2342 seconds: completed 6240000 rows\n",
      "2350 seconds: completed 6260000 rows\n",
      "2359 seconds: completed 6280000 rows\n",
      "2368 seconds: completed 6300000 rows\n"
     ]
    },
    {
     "name": "stderr",
     "output_type": "stream",
     "text": [
      "/home/char/.virtualenvs/data-science/lib/python3.6/site-packages/IPython/core/interactiveshell.py:2717: DtypeWarning:\n",
      "\n",
      "Columns (8,40,47,48,49) have mixed types. Specify dtype option on import or set low_memory=False.\n",
      "\n"
     ]
    },
    {
     "name": "stdout",
     "output_type": "stream",
     "text": [
      "2376 seconds: completed 6320000 rows\n",
      "2384 seconds: completed 6340000 rows\n",
      "2392 seconds: completed 6360000 rows\n",
      "2399 seconds: completed 6380000 rows\n",
      "2408 seconds: completed 6400000 rows\n",
      "2417 seconds: completed 6420000 rows\n",
      "2426 seconds: completed 6440000 rows\n"
     ]
    },
    {
     "name": "stderr",
     "output_type": "stream",
     "text": [
      "/home/char/.virtualenvs/data-science/lib/python3.6/site-packages/IPython/core/interactiveshell.py:2717: DtypeWarning:\n",
      "\n",
      "Columns (47,48,49) have mixed types. Specify dtype option on import or set low_memory=False.\n",
      "\n"
     ]
    },
    {
     "name": "stdout",
     "output_type": "stream",
     "text": [
      "2434 seconds: completed 6460000 rows\n",
      "2441 seconds: completed 6480000 rows\n",
      "2449 seconds: completed 6500000 rows\n",
      "2456 seconds: completed 6520000 rows\n",
      "2464 seconds: completed 6540000 rows\n"
     ]
    },
    {
     "name": "stderr",
     "output_type": "stream",
     "text": [
      "/home/char/.virtualenvs/data-science/lib/python3.6/site-packages/IPython/core/interactiveshell.py:2717: DtypeWarning:\n",
      "\n",
      "Columns (17,40,48,49) have mixed types. Specify dtype option on import or set low_memory=False.\n",
      "\n"
     ]
    },
    {
     "name": "stdout",
     "output_type": "stream",
     "text": [
      "2471 seconds: completed 6560000 rows\n",
      "2479 seconds: completed 6580000 rows\n",
      "2486 seconds: completed 6600000 rows\n",
      "2493 seconds: completed 6620000 rows\n",
      "2501 seconds: completed 6640000 rows\n",
      "2508 seconds: completed 6660000 rows\n"
     ]
    },
    {
     "name": "stderr",
     "output_type": "stream",
     "text": [
      "/home/char/.virtualenvs/data-science/lib/python3.6/site-packages/IPython/core/interactiveshell.py:2717: DtypeWarning:\n",
      "\n",
      "Columns (40,41,48) have mixed types. Specify dtype option on import or set low_memory=False.\n",
      "\n"
     ]
    },
    {
     "name": "stdout",
     "output_type": "stream",
     "text": [
      "2516 seconds: completed 6680000 rows\n",
      "2524 seconds: completed 6700000 rows\n"
     ]
    },
    {
     "name": "stderr",
     "output_type": "stream",
     "text": [
      "/home/char/.virtualenvs/data-science/lib/python3.6/site-packages/IPython/core/interactiveshell.py:2717: DtypeWarning:\n",
      "\n",
      "Columns (8,41,47) have mixed types. Specify dtype option on import or set low_memory=False.\n",
      "\n"
     ]
    },
    {
     "name": "stdout",
     "output_type": "stream",
     "text": [
      "2531 seconds: completed 6720000 rows\n",
      "2538 seconds: completed 6740000 rows\n",
      "2546 seconds: completed 6760000 rows\n",
      "2553 seconds: completed 6780000 rows\n",
      "2560 seconds: completed 6800000 rows\n",
      "2568 seconds: completed 6820000 rows\n",
      "2576 seconds: completed 6840000 rows\n"
     ]
    },
    {
     "name": "stderr",
     "output_type": "stream",
     "text": [
      "/home/char/.virtualenvs/data-science/lib/python3.6/site-packages/IPython/core/interactiveshell.py:2717: DtypeWarning:\n",
      "\n",
      "Columns (41,48,49) have mixed types. Specify dtype option on import or set low_memory=False.\n",
      "\n"
     ]
    },
    {
     "name": "stdout",
     "output_type": "stream",
     "text": [
      "2584 seconds: completed 6860000 rows\n",
      "2592 seconds: completed 6880000 rows\n",
      "2600 seconds: completed 6900000 rows\n",
      "2608 seconds: completed 6920000 rows\n",
      "2616 seconds: completed 6940000 rows\n"
     ]
    },
    {
     "name": "stderr",
     "output_type": "stream",
     "text": [
      "/home/char/.virtualenvs/data-science/lib/python3.6/site-packages/IPython/core/interactiveshell.py:2717: DtypeWarning:\n",
      "\n",
      "Columns (8,17,47,48) have mixed types. Specify dtype option on import or set low_memory=False.\n",
      "\n"
     ]
    },
    {
     "name": "stdout",
     "output_type": "stream",
     "text": [
      "2624 seconds: completed 6960000 rows\n",
      "2631 seconds: completed 6980000 rows\n",
      "2639 seconds: completed 7000000 rows\n",
      "2649 seconds: completed 7020000 rows\n",
      "2657 seconds: completed 7040000 rows\n"
     ]
    },
    {
     "name": "stderr",
     "output_type": "stream",
     "text": [
      "/home/char/.virtualenvs/data-science/lib/python3.6/site-packages/IPython/core/interactiveshell.py:2717: DtypeWarning:\n",
      "\n",
      "Columns (17,40) have mixed types. Specify dtype option on import or set low_memory=False.\n",
      "\n"
     ]
    },
    {
     "name": "stdout",
     "output_type": "stream",
     "text": [
      "2665 seconds: completed 7060000 rows\n"
     ]
    },
    {
     "name": "stderr",
     "output_type": "stream",
     "text": [
      "/home/char/.virtualenvs/data-science/lib/python3.6/site-packages/IPython/core/interactiveshell.py:2717: DtypeWarning:\n",
      "\n",
      "Columns (17,41,48) have mixed types. Specify dtype option on import or set low_memory=False.\n",
      "\n"
     ]
    },
    {
     "name": "stdout",
     "output_type": "stream",
     "text": [
      "2672 seconds: completed 7080000 rows\n",
      "2680 seconds: completed 7100000 rows\n",
      "2689 seconds: completed 7120000 rows\n",
      "2697 seconds: completed 7140000 rows\n"
     ]
    },
    {
     "name": "stderr",
     "output_type": "stream",
     "text": [
      "/home/char/.virtualenvs/data-science/lib/python3.6/site-packages/IPython/core/interactiveshell.py:2717: DtypeWarning:\n",
      "\n",
      "Columns (8,40,47,48) have mixed types. Specify dtype option on import or set low_memory=False.\n",
      "\n"
     ]
    },
    {
     "name": "stdout",
     "output_type": "stream",
     "text": [
      "2705 seconds: completed 7160000 rows\n",
      "2715 seconds: completed 7180000 rows\n",
      "2724 seconds: completed 7200000 rows\n",
      "2732 seconds: completed 7220000 rows\n"
     ]
    },
    {
     "name": "stderr",
     "output_type": "stream",
     "text": [
      "/home/char/.virtualenvs/data-science/lib/python3.6/site-packages/IPython/core/interactiveshell.py:2717: DtypeWarning:\n",
      "\n",
      "Columns (8,40,47) have mixed types. Specify dtype option on import or set low_memory=False.\n",
      "\n"
     ]
    },
    {
     "name": "stdout",
     "output_type": "stream",
     "text": [
      "2741 seconds: completed 7240000 rows\n"
     ]
    },
    {
     "name": "stderr",
     "output_type": "stream",
     "text": [
      "/home/char/.virtualenvs/data-science/lib/python3.6/site-packages/IPython/core/interactiveshell.py:2717: DtypeWarning:\n",
      "\n",
      "Columns (40) have mixed types. Specify dtype option on import or set low_memory=False.\n",
      "\n"
     ]
    },
    {
     "name": "stdout",
     "output_type": "stream",
     "text": [
      "2750 seconds: completed 7260000 rows\n",
      "2758 seconds: completed 7280000 rows\n",
      "2766 seconds: completed 7300000 rows\n",
      "2775 seconds: completed 7320000 rows\n",
      "2782 seconds: completed 7340000 rows\n",
      "2790 seconds: completed 7360000 rows\n",
      "2797 seconds: completed 7380000 rows\n",
      "2805 seconds: completed 7400000 rows\n",
      "2812 seconds: completed 7420000 rows\n",
      "2820 seconds: completed 7440000 rows\n",
      "2827 seconds: completed 7460000 rows\n",
      "2834 seconds: completed 7480000 rows\n",
      "2842 seconds: completed 7500000 rows\n",
      "2849 seconds: completed 7520000 rows\n",
      "2857 seconds: completed 7540000 rows\n",
      "2864 seconds: completed 7560000 rows\n",
      "2871 seconds: completed 7580000 rows\n",
      "2879 seconds: completed 7600000 rows\n",
      "2886 seconds: completed 7620000 rows\n",
      "2893 seconds: completed 7640000 rows\n"
     ]
    },
    {
     "name": "stderr",
     "output_type": "stream",
     "text": [
      "/home/char/.virtualenvs/data-science/lib/python3.6/site-packages/IPython/core/interactiveshell.py:2717: DtypeWarning:\n",
      "\n",
      "Columns (8,17,40,47) have mixed types. Specify dtype option on import or set low_memory=False.\n",
      "\n"
     ]
    },
    {
     "name": "stdout",
     "output_type": "stream",
     "text": [
      "2901 seconds: completed 7660000 rows\n",
      "2908 seconds: completed 7680000 rows\n",
      "2915 seconds: completed 7700000 rows\n",
      "2923 seconds: completed 7720000 rows\n",
      "2930 seconds: completed 7740000 rows\n",
      "2937 seconds: completed 7760000 rows\n",
      "2944 seconds: completed 7780000 rows\n",
      "2952 seconds: completed 7800000 rows\n",
      "2959 seconds: completed 7820000 rows\n",
      "2966 seconds: completed 7840000 rows\n",
      "2973 seconds: completed 7860000 rows\n",
      "2981 seconds: completed 7880000 rows\n",
      "2988 seconds: completed 7900000 rows\n",
      "2995 seconds: completed 7920000 rows\n",
      "3002 seconds: completed 7940000 rows\n",
      "3010 seconds: completed 7960000 rows\n",
      "3018 seconds: completed 7980000 rows\n"
     ]
    },
    {
     "name": "stderr",
     "output_type": "stream",
     "text": [
      "/home/char/.virtualenvs/data-science/lib/python3.6/site-packages/IPython/core/interactiveshell.py:2717: DtypeWarning:\n",
      "\n",
      "Columns (8,17,40,48) have mixed types. Specify dtype option on import or set low_memory=False.\n",
      "\n"
     ]
    },
    {
     "name": "stdout",
     "output_type": "stream",
     "text": [
      "3025 seconds: completed 8000000 rows\n",
      "3033 seconds: completed 8020000 rows\n"
     ]
    },
    {
     "name": "stderr",
     "output_type": "stream",
     "text": [
      "/home/char/.virtualenvs/data-science/lib/python3.6/site-packages/IPython/core/interactiveshell.py:2717: DtypeWarning:\n",
      "\n",
      "Columns (40,47) have mixed types. Specify dtype option on import or set low_memory=False.\n",
      "\n"
     ]
    },
    {
     "name": "stdout",
     "output_type": "stream",
     "text": [
      "3040 seconds: completed 8040000 rows\n",
      "3048 seconds: completed 8060000 rows\n",
      "3055 seconds: completed 8080000 rows\n",
      "3062 seconds: completed 8100000 rows\n",
      "3070 seconds: completed 8120000 rows\n",
      "3077 seconds: completed 8140000 rows\n",
      "3085 seconds: completed 8160000 rows\n",
      "3092 seconds: completed 8180000 rows\n"
     ]
    },
    {
     "name": "stderr",
     "output_type": "stream",
     "text": [
      "/home/char/.virtualenvs/data-science/lib/python3.6/site-packages/IPython/core/interactiveshell.py:2717: DtypeWarning:\n",
      "\n",
      "Columns (8,17,41,43,44,45,47,48) have mixed types. Specify dtype option on import or set low_memory=False.\n",
      "\n"
     ]
    },
    {
     "name": "stdout",
     "output_type": "stream",
     "text": [
      "3099 seconds: completed 8200000 rows\n",
      "3107 seconds: completed 8220000 rows\n",
      "3115 seconds: completed 8240000 rows\n"
     ]
    },
    {
     "name": "stderr",
     "output_type": "stream",
     "text": [
      "/home/char/.virtualenvs/data-science/lib/python3.6/site-packages/IPython/core/interactiveshell.py:2717: DtypeWarning:\n",
      "\n",
      "Columns (8,17,40,41,47,48) have mixed types. Specify dtype option on import or set low_memory=False.\n",
      "\n"
     ]
    },
    {
     "name": "stdout",
     "output_type": "stream",
     "text": [
      "3123 seconds: completed 8260000 rows\n",
      "3130 seconds: completed 8280000 rows\n",
      "3138 seconds: completed 8300000 rows\n",
      "3146 seconds: completed 8320000 rows\n",
      "3154 seconds: completed 8340000 rows\n"
     ]
    },
    {
     "name": "stderr",
     "output_type": "stream",
     "text": [
      "/home/char/.virtualenvs/data-science/lib/python3.6/site-packages/IPython/core/interactiveshell.py:2717: DtypeWarning:\n",
      "\n",
      "Columns (40,47,48) have mixed types. Specify dtype option on import or set low_memory=False.\n",
      "\n"
     ]
    },
    {
     "name": "stdout",
     "output_type": "stream",
     "text": [
      "3162 seconds: completed 8360000 rows\n",
      "3170 seconds: completed 8380000 rows\n"
     ]
    },
    {
     "name": "stderr",
     "output_type": "stream",
     "text": [
      "/home/char/.virtualenvs/data-science/lib/python3.6/site-packages/IPython/core/interactiveshell.py:2717: DtypeWarning:\n",
      "\n",
      "Columns (17,40,48) have mixed types. Specify dtype option on import or set low_memory=False.\n",
      "\n"
     ]
    },
    {
     "name": "stdout",
     "output_type": "stream",
     "text": [
      "3177 seconds: completed 8400000 rows\n",
      "3186 seconds: completed 8420000 rows\n",
      "3195 seconds: completed 8440000 rows\n"
     ]
    },
    {
     "name": "stderr",
     "output_type": "stream",
     "text": [
      "/home/char/.virtualenvs/data-science/lib/python3.6/site-packages/IPython/core/interactiveshell.py:2717: DtypeWarning:\n",
      "\n",
      "Columns (40,48,49) have mixed types. Specify dtype option on import or set low_memory=False.\n",
      "\n"
     ]
    },
    {
     "name": "stdout",
     "output_type": "stream",
     "text": [
      "3202 seconds: completed 8460000 rows\n",
      "3211 seconds: completed 8480000 rows\n",
      "3220 seconds: completed 8500000 rows\n"
     ]
    },
    {
     "name": "stderr",
     "output_type": "stream",
     "text": [
      "/home/char/.virtualenvs/data-science/lib/python3.6/site-packages/IPython/core/interactiveshell.py:2717: DtypeWarning:\n",
      "\n",
      "Columns (17,40,41) have mixed types. Specify dtype option on import or set low_memory=False.\n",
      "\n"
     ]
    },
    {
     "name": "stdout",
     "output_type": "stream",
     "text": [
      "3228 seconds: completed 8520000 rows\n",
      "3236 seconds: completed 8540000 rows\n"
     ]
    },
    {
     "name": "stderr",
     "output_type": "stream",
     "text": [
      "/home/char/.virtualenvs/data-science/lib/python3.6/site-packages/IPython/core/interactiveshell.py:2717: DtypeWarning:\n",
      "\n",
      "Columns (40,47,48,49) have mixed types. Specify dtype option on import or set low_memory=False.\n",
      "\n"
     ]
    },
    {
     "name": "stdout",
     "output_type": "stream",
     "text": [
      "3243 seconds: completed 8560000 rows\n",
      "3251 seconds: completed 8580000 rows\n"
     ]
    },
    {
     "name": "stderr",
     "output_type": "stream",
     "text": [
      "/home/char/.virtualenvs/data-science/lib/python3.6/site-packages/IPython/core/interactiveshell.py:2717: DtypeWarning:\n",
      "\n",
      "Columns (17,40,47,48) have mixed types. Specify dtype option on import or set low_memory=False.\n",
      "\n"
     ]
    },
    {
     "name": "stdout",
     "output_type": "stream",
     "text": [
      "3258 seconds: completed 8600000 rows\n",
      "3265 seconds: completed 8620000 rows\n",
      "3273 seconds: completed 8640000 rows\n",
      "3280 seconds: completed 8660000 rows\n"
     ]
    },
    {
     "name": "stderr",
     "output_type": "stream",
     "text": [
      "/home/char/.virtualenvs/data-science/lib/python3.6/site-packages/IPython/core/interactiveshell.py:2717: DtypeWarning:\n",
      "\n",
      "Columns (8,17,40,47,48,49) have mixed types. Specify dtype option on import or set low_memory=False.\n",
      "\n"
     ]
    },
    {
     "name": "stdout",
     "output_type": "stream",
     "text": [
      "3288 seconds: completed 8680000 rows\n",
      "3295 seconds: completed 8700000 rows\n",
      "3302 seconds: completed 8720000 rows\n",
      "3310 seconds: completed 8740000 rows\n",
      "3317 seconds: completed 8760000 rows\n",
      "3324 seconds: completed 8780000 rows\n"
     ]
    },
    {
     "name": "stderr",
     "output_type": "stream",
     "text": [
      "/home/char/.virtualenvs/data-science/lib/python3.6/site-packages/IPython/core/interactiveshell.py:2717: DtypeWarning:\n",
      "\n",
      "Columns (8,17,40,47,48) have mixed types. Specify dtype option on import or set low_memory=False.\n",
      "\n"
     ]
    },
    {
     "name": "stdout",
     "output_type": "stream",
     "text": [
      "3332 seconds: completed 8800000 rows\n",
      "3339 seconds: completed 8820000 rows\n",
      "3346 seconds: completed 8840000 rows\n",
      "3354 seconds: completed 8860000 rows\n",
      "3361 seconds: completed 8880000 rows\n",
      "3368 seconds: completed 8900000 rows\n",
      "3375 seconds: completed 8920000 rows\n",
      "3383 seconds: completed 8940000 rows\n",
      "3390 seconds: completed 8960000 rows\n",
      "3397 seconds: completed 8980000 rows\n",
      "3405 seconds: completed 9000000 rows\n",
      "3412 seconds: completed 9020000 rows\n",
      "3419 seconds: completed 9040000 rows\n",
      "3427 seconds: completed 9060000 rows\n",
      "3435 seconds: completed 9080000 rows\n",
      "3442 seconds: completed 9100000 rows\n",
      "3450 seconds: completed 9120000 rows\n",
      "3457 seconds: completed 9140000 rows\n",
      "3465 seconds: completed 9160000 rows\n",
      "3473 seconds: completed 9180000 rows\n",
      "3481 seconds: completed 9200000 rows\n",
      "3489 seconds: completed 9220000 rows\n",
      "3497 seconds: completed 9240000 rows\n"
     ]
    },
    {
     "name": "stderr",
     "output_type": "stream",
     "text": [
      "/home/char/.virtualenvs/data-science/lib/python3.6/site-packages/IPython/core/interactiveshell.py:2717: DtypeWarning:\n",
      "\n",
      "Columns (8,40,48,49) have mixed types. Specify dtype option on import or set low_memory=False.\n",
      "\n"
     ]
    },
    {
     "name": "stdout",
     "output_type": "stream",
     "text": [
      "3505 seconds: completed 9260000 rows\n",
      "3513 seconds: completed 9280000 rows\n",
      "3521 seconds: completed 9300000 rows\n",
      "3529 seconds: completed 9320000 rows\n",
      "3537 seconds: completed 9340000 rows\n",
      "3546 seconds: completed 9360000 rows\n",
      "3555 seconds: completed 9380000 rows\n",
      "3563 seconds: completed 9400000 rows\n",
      "3572 seconds: completed 9420000 rows\n",
      "3580 seconds: completed 9440000 rows\n",
      "3589 seconds: completed 9460000 rows\n",
      "3598 seconds: completed 9480000 rows\n",
      "3606 seconds: completed 9500000 rows\n",
      "3614 seconds: completed 9520000 rows\n",
      "3623 seconds: completed 9540000 rows\n",
      "3632 seconds: completed 9560000 rows\n",
      "3641 seconds: completed 9580000 rows\n",
      "3649 seconds: completed 9600000 rows\n",
      "3658 seconds: completed 9620000 rows\n",
      "3667 seconds: completed 9640000 rows\n",
      "3675 seconds: completed 9660000 rows\n",
      "3685 seconds: completed 9680000 rows\n",
      "3692 seconds: completed 9700000 rows\n",
      "3699 seconds: completed 9720000 rows\n",
      "3706 seconds: completed 9740000 rows\n",
      "3714 seconds: completed 9760000 rows\n",
      "3721 seconds: completed 9780000 rows\n",
      "3729 seconds: completed 9800000 rows\n",
      "3738 seconds: completed 9820000 rows\n",
      "3748 seconds: completed 9840000 rows\n"
     ]
    },
    {
     "name": "stderr",
     "output_type": "stream",
     "text": [
      "/home/char/.virtualenvs/data-science/lib/python3.6/site-packages/IPython/core/interactiveshell.py:2717: DtypeWarning:\n",
      "\n",
      "Columns (8,17,41,47,48) have mixed types. Specify dtype option on import or set low_memory=False.\n",
      "\n"
     ]
    },
    {
     "name": "stdout",
     "output_type": "stream",
     "text": [
      "3757 seconds: completed 9860000 rows\n",
      "3764 seconds: completed 9880000 rows\n",
      "3772 seconds: completed 9900000 rows\n",
      "3780 seconds: completed 9920000 rows\n",
      "3788 seconds: completed 9940000 rows\n",
      "3796 seconds: completed 9960000 rows\n",
      "3803 seconds: completed 9980000 rows\n"
     ]
    },
    {
     "name": "stderr",
     "output_type": "stream",
     "text": [
      "/home/char/.virtualenvs/data-science/lib/python3.6/site-packages/IPython/core/interactiveshell.py:2717: DtypeWarning:\n",
      "\n",
      "Columns (17,47) have mixed types. Specify dtype option on import or set low_memory=False.\n",
      "\n"
     ]
    },
    {
     "name": "stdout",
     "output_type": "stream",
     "text": [
      "3812 seconds: completed 10000000 rows\n",
      "3820 seconds: completed 10020000 rows\n",
      "3828 seconds: completed 10040000 rows\n",
      "3836 seconds: completed 10060000 rows\n",
      "3844 seconds: completed 10080000 rows\n",
      "3853 seconds: completed 10100000 rows\n",
      "3861 seconds: completed 10120000 rows\n",
      "3869 seconds: completed 10140000 rows\n",
      "3877 seconds: completed 10160000 rows\n",
      "3885 seconds: completed 10180000 rows\n",
      "3893 seconds: completed 10200000 rows\n",
      "3901 seconds: completed 10220000 rows\n",
      "3909 seconds: completed 10240000 rows\n",
      "3916 seconds: completed 10260000 rows\n",
      "3924 seconds: completed 10280000 rows\n",
      "3933 seconds: completed 10300000 rows\n",
      "3940 seconds: completed 10320000 rows\n",
      "3948 seconds: completed 10340000 rows\n",
      "3955 seconds: completed 10360000 rows\n",
      "3963 seconds: completed 10380000 rows\n",
      "3971 seconds: completed 10400000 rows\n",
      "3979 seconds: completed 10420000 rows\n",
      "3987 seconds: completed 10440000 rows\n",
      "3994 seconds: completed 10460000 rows\n",
      "4001 seconds: completed 10480000 rows\n",
      "4009 seconds: completed 10500000 rows\n",
      "4017 seconds: completed 10520000 rows\n",
      "4025 seconds: completed 10540000 rows\n",
      "4033 seconds: completed 10560000 rows\n",
      "4041 seconds: completed 10580000 rows\n",
      "4049 seconds: completed 10600000 rows\n"
     ]
    },
    {
     "name": "stderr",
     "output_type": "stream",
     "text": [
      "/home/char/.virtualenvs/data-science/lib/python3.6/site-packages/IPython/core/interactiveshell.py:2717: DtypeWarning:\n",
      "\n",
      "Columns (17,41,42,43,44,45,47,48,49) have mixed types. Specify dtype option on import or set low_memory=False.\n",
      "\n"
     ]
    },
    {
     "name": "stdout",
     "output_type": "stream",
     "text": [
      "4057 seconds: completed 10620000 rows\n"
     ]
    },
    {
     "name": "stderr",
     "output_type": "stream",
     "text": [
      "/home/char/.virtualenvs/data-science/lib/python3.6/site-packages/IPython/core/interactiveshell.py:2717: DtypeWarning:\n",
      "\n",
      "Columns (17,41) have mixed types. Specify dtype option on import or set low_memory=False.\n",
      "\n"
     ]
    },
    {
     "name": "stdout",
     "output_type": "stream",
     "text": [
      "4065 seconds: completed 10640000 rows\n",
      "4073 seconds: completed 10660000 rows\n"
     ]
    },
    {
     "name": "stderr",
     "output_type": "stream",
     "text": [
      "/home/char/.virtualenvs/data-science/lib/python3.6/site-packages/IPython/core/interactiveshell.py:2717: DtypeWarning:\n",
      "\n",
      "Columns (8,17,40,41,49) have mixed types. Specify dtype option on import or set low_memory=False.\n",
      "\n"
     ]
    },
    {
     "name": "stdout",
     "output_type": "stream",
     "text": [
      "4080 seconds: completed 10680000 rows\n",
      "4089 seconds: completed 10700000 rows\n",
      "4097 seconds: completed 10720000 rows\n",
      "4104 seconds: completed 10740000 rows\n",
      "4111 seconds: completed 10760000 rows\n"
     ]
    },
    {
     "name": "stderr",
     "output_type": "stream",
     "text": [
      "/home/char/.virtualenvs/data-science/lib/python3.6/site-packages/IPython/core/interactiveshell.py:2717: DtypeWarning:\n",
      "\n",
      "Columns (17,18) have mixed types. Specify dtype option on import or set low_memory=False.\n",
      "\n"
     ]
    },
    {
     "name": "stdout",
     "output_type": "stream",
     "text": [
      "4120 seconds: completed 10780000 rows\n"
     ]
    },
    {
     "name": "stderr",
     "output_type": "stream",
     "text": [
      "/home/char/.virtualenvs/data-science/lib/python3.6/site-packages/IPython/core/interactiveshell.py:2717: DtypeWarning:\n",
      "\n",
      "Columns (43,44,45,46) have mixed types. Specify dtype option on import or set low_memory=False.\n",
      "\n"
     ]
    },
    {
     "name": "stdout",
     "output_type": "stream",
     "text": [
      "4128 seconds: completed 10800000 rows\n"
     ]
    },
    {
     "name": "stderr",
     "output_type": "stream",
     "text": [
      "/home/char/.virtualenvs/data-science/lib/python3.6/site-packages/IPython/core/interactiveshell.py:2717: DtypeWarning:\n",
      "\n",
      "Columns (41,42) have mixed types. Specify dtype option on import or set low_memory=False.\n",
      "\n"
     ]
    },
    {
     "name": "stdout",
     "output_type": "stream",
     "text": [
      "4136 seconds: completed 10820000 rows\n"
     ]
    },
    {
     "name": "stderr",
     "output_type": "stream",
     "text": [
      "/home/char/.virtualenvs/data-science/lib/python3.6/site-packages/IPython/core/interactiveshell.py:2717: DtypeWarning:\n",
      "\n",
      "Columns (43,44,45,48) have mixed types. Specify dtype option on import or set low_memory=False.\n",
      "\n"
     ]
    },
    {
     "name": "stdout",
     "output_type": "stream",
     "text": [
      "4144 seconds: completed 10840000 rows\n",
      "4151 seconds: completed 10860000 rows\n",
      "4158 seconds: completed 10880000 rows\n"
     ]
    },
    {
     "name": "stderr",
     "output_type": "stream",
     "text": [
      "/home/char/.virtualenvs/data-science/lib/python3.6/site-packages/IPython/core/interactiveshell.py:2717: DtypeWarning:\n",
      "\n",
      "Columns (8,47,49) have mixed types. Specify dtype option on import or set low_memory=False.\n",
      "\n"
     ]
    },
    {
     "name": "stdout",
     "output_type": "stream",
     "text": [
      "4165 seconds: completed 10900000 rows\n",
      "4175 seconds: completed 10920000 rows\n",
      "4184 seconds: completed 10940000 rows\n",
      "4192 seconds: completed 10960000 rows\n",
      "4200 seconds: completed 10980000 rows\n",
      "4207 seconds: completed 11000000 rows\n",
      "4215 seconds: completed 11020000 rows\n",
      "4222 seconds: completed 11040000 rows\n",
      "4230 seconds: completed 11060000 rows\n",
      "4237 seconds: completed 11080000 rows\n",
      "4244 seconds: completed 11100000 rows\n",
      "4253 seconds: completed 11120000 rows\n",
      "4261 seconds: completed 11140000 rows\n",
      "4269 seconds: completed 11160000 rows\n",
      "4277 seconds: completed 11180000 rows\n",
      "4286 seconds: completed 11200000 rows\n",
      "4293 seconds: completed 11220000 rows\n",
      "4302 seconds: completed 11240000 rows\n",
      "4310 seconds: completed 11260000 rows\n",
      "4318 seconds: completed 11280000 rows\n",
      "4326 seconds: completed 11300000 rows\n",
      "4335 seconds: completed 11320000 rows\n",
      "4343 seconds: completed 11340000 rows\n",
      "4351 seconds: completed 11360000 rows\n",
      "4359 seconds: completed 11380000 rows\n",
      "4367 seconds: completed 11400000 rows\n",
      "4375 seconds: completed 11420000 rows\n",
      "4383 seconds: completed 11440000 rows\n",
      "4391 seconds: completed 11460000 rows\n",
      "4400 seconds: completed 11480000 rows\n",
      "4408 seconds: completed 11500000 rows\n",
      "4415 seconds: completed 11520000 rows\n",
      "4423 seconds: completed 11540000 rows\n",
      "4431 seconds: completed 11560000 rows\n",
      "4438 seconds: completed 11580000 rows\n",
      "4445 seconds: completed 11600000 rows\n",
      "4453 seconds: completed 11620000 rows\n",
      "4460 seconds: completed 11640000 rows\n",
      "4468 seconds: completed 11660000 rows\n",
      "4475 seconds: completed 11680000 rows\n",
      "4483 seconds: completed 11700000 rows\n",
      "4491 seconds: completed 11720000 rows\n",
      "4500 seconds: completed 11740000 rows\n",
      "4509 seconds: completed 11760000 rows\n",
      "4518 seconds: completed 11780000 rows\n",
      "4525 seconds: completed 11800000 rows\n"
     ]
    },
    {
     "name": "stderr",
     "output_type": "stream",
     "text": [
      "/home/char/.virtualenvs/data-science/lib/python3.6/site-packages/IPython/core/interactiveshell.py:2717: DtypeWarning:\n",
      "\n",
      "Columns (40,43,44,45,46,47,48,49) have mixed types. Specify dtype option on import or set low_memory=False.\n",
      "\n"
     ]
    },
    {
     "name": "stdout",
     "output_type": "stream",
     "text": [
      "4534 seconds: completed 11820000 rows\n",
      "4541 seconds: completed 11840000 rows\n"
     ]
    },
    {
     "name": "stderr",
     "output_type": "stream",
     "text": [
      "/home/char/.virtualenvs/data-science/lib/python3.6/site-packages/IPython/core/interactiveshell.py:2717: DtypeWarning:\n",
      "\n",
      "Columns (8,17,40,41,47) have mixed types. Specify dtype option on import or set low_memory=False.\n",
      "\n"
     ]
    },
    {
     "name": "stdout",
     "output_type": "stream",
     "text": [
      "4548 seconds: completed 11860000 rows\n",
      "4555 seconds: completed 11880000 rows\n",
      "4563 seconds: completed 11900000 rows\n",
      "4570 seconds: completed 11920000 rows\n",
      "4577 seconds: completed 11940000 rows\n",
      "4585 seconds: completed 11960000 rows\n",
      "4592 seconds: completed 11980000 rows\n",
      "4600 seconds: completed 12000000 rows\n",
      "4607 seconds: completed 12020000 rows\n",
      "4614 seconds: completed 12040000 rows\n",
      "4621 seconds: completed 12060000 rows\n",
      "4629 seconds: completed 12080000 rows\n",
      "4636 seconds: completed 12100000 rows\n",
      "4643 seconds: completed 12120000 rows\n",
      "4650 seconds: completed 12140000 rows\n",
      "4658 seconds: completed 12160000 rows\n",
      "4665 seconds: completed 12180000 rows\n",
      "4672 seconds: completed 12200000 rows\n",
      "4679 seconds: completed 12220000 rows\n",
      "4687 seconds: completed 12240000 rows\n",
      "4694 seconds: completed 12260000 rows\n",
      "4701 seconds: completed 12280000 rows\n",
      "4708 seconds: completed 12300000 rows\n",
      "4715 seconds: completed 12320000 rows\n",
      "4723 seconds: completed 12340000 rows\n",
      "4730 seconds: completed 12360000 rows\n",
      "4737 seconds: completed 12380000 rows\n",
      "4744 seconds: completed 12400000 rows\n",
      "4752 seconds: completed 12420000 rows\n",
      "4759 seconds: completed 12440000 rows\n",
      "4766 seconds: completed 12460000 rows\n",
      "4773 seconds: completed 12480000 rows\n",
      "4780 seconds: completed 12500000 rows\n",
      "4787 seconds: completed 12520000 rows\n",
      "4795 seconds: completed 12540000 rows\n",
      "4802 seconds: completed 12560000 rows\n",
      "4809 seconds: completed 12580000 rows\n",
      "4816 seconds: completed 12600000 rows\n",
      "4824 seconds: completed 12620000 rows\n",
      "4831 seconds: completed 12640000 rows\n",
      "4838 seconds: completed 12660000 rows\n",
      "4845 seconds: completed 12680000 rows\n",
      "4853 seconds: completed 12700000 rows\n",
      "4860 seconds: completed 12720000 rows\n",
      "4867 seconds: completed 12740000 rows\n",
      "4874 seconds: completed 12760000 rows\n",
      "4882 seconds: completed 12780000 rows\n",
      "4889 seconds: completed 12800000 rows\n"
     ]
    },
    {
     "name": "stderr",
     "output_type": "stream",
     "text": [
      "/home/char/.virtualenvs/data-science/lib/python3.6/site-packages/IPython/core/interactiveshell.py:2717: DtypeWarning:\n",
      "\n",
      "Columns (17,40,41,47,48) have mixed types. Specify dtype option on import or set low_memory=False.\n",
      "\n"
     ]
    },
    {
     "name": "stdout",
     "output_type": "stream",
     "text": [
      "4896 seconds: completed 12820000 rows\n",
      "4903 seconds: completed 12840000 rows\n",
      "4910 seconds: completed 12860000 rows\n",
      "4917 seconds: completed 12880000 rows\n",
      "4925 seconds: completed 12900000 rows\n",
      "4932 seconds: completed 12920000 rows\n"
     ]
    },
    {
     "name": "stderr",
     "output_type": "stream",
     "text": [
      "/home/char/.virtualenvs/data-science/lib/python3.6/site-packages/IPython/core/interactiveshell.py:2717: DtypeWarning:\n",
      "\n",
      "Columns (8,17,43,44,45,47,48,49) have mixed types. Specify dtype option on import or set low_memory=False.\n",
      "\n"
     ]
    },
    {
     "name": "stdout",
     "output_type": "stream",
     "text": [
      "4941 seconds: completed 12940000 rows\n",
      "4949 seconds: completed 12960000 rows\n",
      "4956 seconds: completed 12980000 rows\n"
     ]
    },
    {
     "name": "stderr",
     "output_type": "stream",
     "text": [
      "/home/char/.virtualenvs/data-science/lib/python3.6/site-packages/IPython/core/interactiveshell.py:2717: DtypeWarning:\n",
      "\n",
      "Columns (8,17,43,44,45,48) have mixed types. Specify dtype option on import or set low_memory=False.\n",
      "\n"
     ]
    },
    {
     "name": "stdout",
     "output_type": "stream",
     "text": [
      "4964 seconds: completed 13000000 rows\n",
      "4972 seconds: completed 13020000 rows\n"
     ]
    },
    {
     "name": "stderr",
     "output_type": "stream",
     "text": [
      "/home/char/.virtualenvs/data-science/lib/python3.6/site-packages/IPython/core/interactiveshell.py:2717: DtypeWarning:\n",
      "\n",
      "Columns (17,39,40,47,48) have mixed types. Specify dtype option on import or set low_memory=False.\n",
      "\n"
     ]
    },
    {
     "name": "stdout",
     "output_type": "stream",
     "text": [
      "4980 seconds: completed 13040000 rows\n"
     ]
    },
    {
     "name": "stderr",
     "output_type": "stream",
     "text": [
      "/home/char/.virtualenvs/data-science/lib/python3.6/site-packages/IPython/core/interactiveshell.py:2717: DtypeWarning:\n",
      "\n",
      "Columns (39,40,47) have mixed types. Specify dtype option on import or set low_memory=False.\n",
      "\n"
     ]
    },
    {
     "name": "stdout",
     "output_type": "stream",
     "text": [
      "4987 seconds: completed 13060000 rows\n"
     ]
    },
    {
     "name": "stderr",
     "output_type": "stream",
     "text": [
      "/home/char/.virtualenvs/data-science/lib/python3.6/site-packages/IPython/core/interactiveshell.py:2717: DtypeWarning:\n",
      "\n",
      "Columns (41,43,44,45,47,48) have mixed types. Specify dtype option on import or set low_memory=False.\n",
      "\n"
     ]
    },
    {
     "name": "stdout",
     "output_type": "stream",
     "text": [
      "4995 seconds: completed 13080000 rows\n"
     ]
    },
    {
     "name": "stderr",
     "output_type": "stream",
     "text": [
      "/home/char/.virtualenvs/data-science/lib/python3.6/site-packages/IPython/core/interactiveshell.py:2717: DtypeWarning:\n",
      "\n",
      "Columns (39,40,41,47) have mixed types. Specify dtype option on import or set low_memory=False.\n",
      "\n"
     ]
    },
    {
     "name": "stdout",
     "output_type": "stream",
     "text": [
      "5003 seconds: completed 13100000 rows\n"
     ]
    },
    {
     "name": "stderr",
     "output_type": "stream",
     "text": [
      "/home/char/.virtualenvs/data-science/lib/python3.6/site-packages/IPython/core/interactiveshell.py:2717: DtypeWarning:\n",
      "\n",
      "Columns (17,40,41,42,43,44,45,46,48) have mixed types. Specify dtype option on import or set low_memory=False.\n",
      "\n"
     ]
    },
    {
     "name": "stdout",
     "output_type": "stream",
     "text": [
      "5010 seconds: completed 13120000 rows\n"
     ]
    },
    {
     "name": "stderr",
     "output_type": "stream",
     "text": [
      "/home/char/.virtualenvs/data-science/lib/python3.6/site-packages/IPython/core/interactiveshell.py:2717: DtypeWarning:\n",
      "\n",
      "Columns (41) have mixed types. Specify dtype option on import or set low_memory=False.\n",
      "\n"
     ]
    },
    {
     "name": "stdout",
     "output_type": "stream",
     "text": [
      "5019 seconds: completed 13140000 rows\n",
      "5027 seconds: completed 13160000 rows\n",
      "5035 seconds: completed 13180000 rows\n"
     ]
    },
    {
     "name": "stderr",
     "output_type": "stream",
     "text": [
      "/home/char/.virtualenvs/data-science/lib/python3.6/site-packages/IPython/core/interactiveshell.py:2717: DtypeWarning:\n",
      "\n",
      "Columns (17,41,47) have mixed types. Specify dtype option on import or set low_memory=False.\n",
      "\n"
     ]
    },
    {
     "name": "stdout",
     "output_type": "stream",
     "text": [
      "5043 seconds: completed 13200000 rows\n"
     ]
    },
    {
     "name": "stderr",
     "output_type": "stream",
     "text": [
      "/home/char/.virtualenvs/data-science/lib/python3.6/site-packages/IPython/core/interactiveshell.py:2717: DtypeWarning:\n",
      "\n",
      "Columns (8,17,41,42,43,44,45,46,48,49) have mixed types. Specify dtype option on import or set low_memory=False.\n",
      "\n"
     ]
    },
    {
     "name": "stdout",
     "output_type": "stream",
     "text": [
      "5050 seconds: completed 13220000 rows\n",
      "5058 seconds: completed 13240000 rows\n"
     ]
    },
    {
     "name": "stderr",
     "output_type": "stream",
     "text": [
      "/home/char/.virtualenvs/data-science/lib/python3.6/site-packages/IPython/core/interactiveshell.py:2717: DtypeWarning:\n",
      "\n",
      "Columns (40,41,48,49) have mixed types. Specify dtype option on import or set low_memory=False.\n",
      "\n"
     ]
    },
    {
     "name": "stdout",
     "output_type": "stream",
     "text": [
      "5066 seconds: completed 13260000 rows\n",
      "5073 seconds: completed 13280000 rows\n",
      "5081 seconds: completed 13300000 rows\n"
     ]
    },
    {
     "name": "stderr",
     "output_type": "stream",
     "text": [
      "/home/char/.virtualenvs/data-science/lib/python3.6/site-packages/IPython/core/interactiveshell.py:2717: DtypeWarning:\n",
      "\n",
      "Columns (8,17,41,42,47,48,49) have mixed types. Specify dtype option on import or set low_memory=False.\n",
      "\n"
     ]
    },
    {
     "name": "stdout",
     "output_type": "stream",
     "text": [
      "5089 seconds: completed 13320000 rows\n"
     ]
    },
    {
     "name": "stderr",
     "output_type": "stream",
     "text": [
      "/home/char/.virtualenvs/data-science/lib/python3.6/site-packages/IPython/core/interactiveshell.py:2717: DtypeWarning:\n",
      "\n",
      "Columns (41,45,46,48,49) have mixed types. Specify dtype option on import or set low_memory=False.\n",
      "\n"
     ]
    },
    {
     "name": "stdout",
     "output_type": "stream",
     "text": [
      "5096 seconds: completed 13340000 rows\n"
     ]
    },
    {
     "name": "stderr",
     "output_type": "stream",
     "text": [
      "/home/char/.virtualenvs/data-science/lib/python3.6/site-packages/IPython/core/interactiveshell.py:2717: DtypeWarning:\n",
      "\n",
      "Columns (42,48) have mixed types. Specify dtype option on import or set low_memory=False.\n",
      "\n"
     ]
    },
    {
     "name": "stdout",
     "output_type": "stream",
     "text": [
      "5104 seconds: completed 13360000 rows\n",
      "5112 seconds: completed 13380000 rows\n"
     ]
    },
    {
     "name": "stderr",
     "output_type": "stream",
     "text": [
      "/home/char/.virtualenvs/data-science/lib/python3.6/site-packages/IPython/core/interactiveshell.py:2717: DtypeWarning:\n",
      "\n",
      "Columns (42,43,44,45,46,48,49) have mixed types. Specify dtype option on import or set low_memory=False.\n",
      "\n"
     ]
    },
    {
     "name": "stdout",
     "output_type": "stream",
     "text": [
      "5119 seconds: completed 13400000 rows\n"
     ]
    },
    {
     "name": "stderr",
     "output_type": "stream",
     "text": [
      "/home/char/.virtualenvs/data-science/lib/python3.6/site-packages/IPython/core/interactiveshell.py:2717: DtypeWarning:\n",
      "\n",
      "Columns (42,43,44,45,46,47) have mixed types. Specify dtype option on import or set low_memory=False.\n",
      "\n"
     ]
    },
    {
     "name": "stdout",
     "output_type": "stream",
     "text": [
      "5126 seconds: completed 13420000 rows\n"
     ]
    },
    {
     "name": "stderr",
     "output_type": "stream",
     "text": [
      "/home/char/.virtualenvs/data-science/lib/python3.6/site-packages/IPython/core/interactiveshell.py:2717: DtypeWarning:\n",
      "\n",
      "Columns (41,42,48,49) have mixed types. Specify dtype option on import or set low_memory=False.\n",
      "\n"
     ]
    },
    {
     "name": "stdout",
     "output_type": "stream",
     "text": [
      "5134 seconds: completed 13440000 rows\n"
     ]
    },
    {
     "name": "stderr",
     "output_type": "stream",
     "text": [
      "/home/char/.virtualenvs/data-science/lib/python3.6/site-packages/IPython/core/interactiveshell.py:2717: DtypeWarning:\n",
      "\n",
      "Columns (41,48) have mixed types. Specify dtype option on import or set low_memory=False.\n",
      "\n"
     ]
    },
    {
     "name": "stdout",
     "output_type": "stream",
     "text": [
      "5141 seconds: completed 13460000 rows\n"
     ]
    },
    {
     "name": "stderr",
     "output_type": "stream",
     "text": [
      "/home/char/.virtualenvs/data-science/lib/python3.6/site-packages/IPython/core/interactiveshell.py:2717: DtypeWarning:\n",
      "\n",
      "Columns (41,42,43,44,45,46,47,48) have mixed types. Specify dtype option on import or set low_memory=False.\n",
      "\n"
     ]
    },
    {
     "name": "stdout",
     "output_type": "stream",
     "text": [
      "5148 seconds: completed 13480000 rows\n",
      "5156 seconds: completed 13500000 rows\n",
      "5163 seconds: completed 13520000 rows\n"
     ]
    },
    {
     "name": "stderr",
     "output_type": "stream",
     "text": [
      "/home/char/.virtualenvs/data-science/lib/python3.6/site-packages/IPython/core/interactiveshell.py:2717: DtypeWarning:\n",
      "\n",
      "Columns (8,17,41,47) have mixed types. Specify dtype option on import or set low_memory=False.\n",
      "\n"
     ]
    },
    {
     "name": "stdout",
     "output_type": "stream",
     "text": [
      "5171 seconds: completed 13540000 rows\n",
      "5179 seconds: completed 13560000 rows\n"
     ]
    },
    {
     "name": "stderr",
     "output_type": "stream",
     "text": [
      "/home/char/.virtualenvs/data-science/lib/python3.6/site-packages/IPython/core/interactiveshell.py:2717: DtypeWarning:\n",
      "\n",
      "Columns (17,41,42,43,44,45,46,48,49) have mixed types. Specify dtype option on import or set low_memory=False.\n",
      "\n"
     ]
    },
    {
     "name": "stdout",
     "output_type": "stream",
     "text": [
      "5186 seconds: completed 13580000 rows\n"
     ]
    },
    {
     "name": "stderr",
     "output_type": "stream",
     "text": [
      "/home/char/.virtualenvs/data-science/lib/python3.6/site-packages/IPython/core/interactiveshell.py:2717: DtypeWarning:\n",
      "\n",
      "Columns (17,42,46) have mixed types. Specify dtype option on import or set low_memory=False.\n",
      "\n"
     ]
    },
    {
     "name": "stdout",
     "output_type": "stream",
     "text": [
      "5193 seconds: completed 13600000 rows\n"
     ]
    },
    {
     "name": "stderr",
     "output_type": "stream",
     "text": [
      "/home/char/.virtualenvs/data-science/lib/python3.6/site-packages/IPython/core/interactiveshell.py:2717: DtypeWarning:\n",
      "\n",
      "Columns (46,48,49) have mixed types. Specify dtype option on import or set low_memory=False.\n",
      "\n"
     ]
    },
    {
     "name": "stdout",
     "output_type": "stream",
     "text": [
      "5201 seconds: completed 13620000 rows\n"
     ]
    },
    {
     "name": "stderr",
     "output_type": "stream",
     "text": [
      "/home/char/.virtualenvs/data-science/lib/python3.6/site-packages/IPython/core/interactiveshell.py:2717: DtypeWarning:\n",
      "\n",
      "Columns (43,44,45,46,49) have mixed types. Specify dtype option on import or set low_memory=False.\n",
      "\n"
     ]
    },
    {
     "name": "stdout",
     "output_type": "stream",
     "text": [
      "5208 seconds: completed 13640000 rows\n"
     ]
    },
    {
     "name": "stderr",
     "output_type": "stream",
     "text": [
      "/home/char/.virtualenvs/data-science/lib/python3.6/site-packages/IPython/core/interactiveshell.py:2717: DtypeWarning:\n",
      "\n",
      "Columns (46) have mixed types. Specify dtype option on import or set low_memory=False.\n",
      "\n"
     ]
    },
    {
     "name": "stdout",
     "output_type": "stream",
     "text": [
      "5216 seconds: completed 13660000 rows\n"
     ]
    },
    {
     "name": "stderr",
     "output_type": "stream",
     "text": [
      "/home/char/.virtualenvs/data-science/lib/python3.6/site-packages/IPython/core/interactiveshell.py:2717: DtypeWarning:\n",
      "\n",
      "Columns (49) have mixed types. Specify dtype option on import or set low_memory=False.\n",
      "\n"
     ]
    },
    {
     "name": "stdout",
     "output_type": "stream",
     "text": [
      "5223 seconds: completed 13680000 rows\n"
     ]
    },
    {
     "name": "stderr",
     "output_type": "stream",
     "text": [
      "/home/char/.virtualenvs/data-science/lib/python3.6/site-packages/IPython/core/interactiveshell.py:2717: DtypeWarning:\n",
      "\n",
      "Columns (42,43,44,45,46,49) have mixed types. Specify dtype option on import or set low_memory=False.\n",
      "\n"
     ]
    },
    {
     "name": "stdout",
     "output_type": "stream",
     "text": [
      "5230 seconds: completed 13700000 rows\n"
     ]
    },
    {
     "name": "stderr",
     "output_type": "stream",
     "text": [
      "/home/char/.virtualenvs/data-science/lib/python3.6/site-packages/IPython/core/interactiveshell.py:2717: DtypeWarning:\n",
      "\n",
      "Columns (42,43,44,45,48,49) have mixed types. Specify dtype option on import or set low_memory=False.\n",
      "\n"
     ]
    },
    {
     "name": "stdout",
     "output_type": "stream",
     "text": [
      "5238 seconds: completed 13720000 rows\n"
     ]
    },
    {
     "name": "stderr",
     "output_type": "stream",
     "text": [
      "/home/char/.virtualenvs/data-science/lib/python3.6/site-packages/IPython/core/interactiveshell.py:2717: DtypeWarning:\n",
      "\n",
      "Columns (46,49) have mixed types. Specify dtype option on import or set low_memory=False.\n",
      "\n"
     ]
    },
    {
     "name": "stdout",
     "output_type": "stream",
     "text": [
      "5245 seconds: completed 13740000 rows\n",
      "5252 seconds: completed 13760000 rows\n",
      "5260 seconds: completed 13780000 rows\n"
     ]
    },
    {
     "name": "stderr",
     "output_type": "stream",
     "text": [
      "/home/char/.virtualenvs/data-science/lib/python3.6/site-packages/IPython/core/interactiveshell.py:2717: DtypeWarning:\n",
      "\n",
      "Columns (42,46) have mixed types. Specify dtype option on import or set low_memory=False.\n",
      "\n"
     ]
    },
    {
     "name": "stdout",
     "output_type": "stream",
     "text": [
      "5267 seconds: completed 13800000 rows\n",
      "5275 seconds: completed 13820000 rows\n",
      "5282 seconds: completed 13840000 rows\n",
      "5289 seconds: completed 13860000 rows\n"
     ]
    },
    {
     "name": "stderr",
     "output_type": "stream",
     "text": [
      "/home/char/.virtualenvs/data-science/lib/python3.6/site-packages/IPython/core/interactiveshell.py:2717: DtypeWarning:\n",
      "\n",
      "Columns (8,42,43,44,45,46,48,49) have mixed types. Specify dtype option on import or set low_memory=False.\n",
      "\n"
     ]
    },
    {
     "name": "stdout",
     "output_type": "stream",
     "text": [
      "5297 seconds: completed 13880000 rows\n",
      "5304 seconds: completed 13900000 rows\n"
     ]
    },
    {
     "name": "stderr",
     "output_type": "stream",
     "text": [
      "/home/char/.virtualenvs/data-science/lib/python3.6/site-packages/IPython/core/interactiveshell.py:2717: DtypeWarning:\n",
      "\n",
      "Columns (8,17,39,41,48) have mixed types. Specify dtype option on import or set low_memory=False.\n",
      "\n"
     ]
    },
    {
     "name": "stdout",
     "output_type": "stream",
     "text": [
      "5311 seconds: completed 13920000 rows\n",
      "5320 seconds: completed 13940000 rows\n"
     ]
    },
    {
     "name": "stderr",
     "output_type": "stream",
     "text": [
      "/home/char/.virtualenvs/data-science/lib/python3.6/site-packages/IPython/core/interactiveshell.py:2717: DtypeWarning:\n",
      "\n",
      "Columns (17,43,44,45,46,47,48,49) have mixed types. Specify dtype option on import or set low_memory=False.\n",
      "\n"
     ]
    },
    {
     "name": "stdout",
     "output_type": "stream",
     "text": [
      "5328 seconds: completed 13960000 rows\n"
     ]
    },
    {
     "name": "stderr",
     "output_type": "stream",
     "text": [
      "/home/char/.virtualenvs/data-science/lib/python3.6/site-packages/IPython/core/interactiveshell.py:2717: DtypeWarning:\n",
      "\n",
      "Columns (17,40,41,42,43,44,45,46,48,49) have mixed types. Specify dtype option on import or set low_memory=False.\n",
      "\n"
     ]
    },
    {
     "name": "stdout",
     "output_type": "stream",
     "text": [
      "5335 seconds: completed 13980000 rows\n",
      "5342 seconds: completed 14000000 rows\n"
     ]
    },
    {
     "name": "stderr",
     "output_type": "stream",
     "text": [
      "/home/char/.virtualenvs/data-science/lib/python3.6/site-packages/IPython/core/interactiveshell.py:2717: DtypeWarning:\n",
      "\n",
      "Columns (42,43,44,45,46) have mixed types. Specify dtype option on import or set low_memory=False.\n",
      "\n"
     ]
    },
    {
     "name": "stdout",
     "output_type": "stream",
     "text": [
      "5350 seconds: completed 14020000 rows\n"
     ]
    },
    {
     "name": "stderr",
     "output_type": "stream",
     "text": [
      "/home/char/.virtualenvs/data-science/lib/python3.6/site-packages/IPython/core/interactiveshell.py:2717: DtypeWarning:\n",
      "\n",
      "Columns (42,49) have mixed types. Specify dtype option on import or set low_memory=False.\n",
      "\n"
     ]
    },
    {
     "name": "stdout",
     "output_type": "stream",
     "text": [
      "5357 seconds: completed 14040000 rows\n",
      "5364 seconds: completed 14060000 rows\n"
     ]
    },
    {
     "name": "stderr",
     "output_type": "stream",
     "text": [
      "/home/char/.virtualenvs/data-science/lib/python3.6/site-packages/IPython/core/interactiveshell.py:2717: DtypeWarning:\n",
      "\n",
      "Columns (8,41,43,44,45,48) have mixed types. Specify dtype option on import or set low_memory=False.\n",
      "\n"
     ]
    },
    {
     "name": "stdout",
     "output_type": "stream",
     "text": [
      "5372 seconds: completed 14080000 rows\n",
      "5380 seconds: completed 14100000 rows\n",
      "5389 seconds: completed 14120000 rows\n",
      "5396 seconds: completed 14140000 rows\n",
      "5405 seconds: completed 14160000 rows\n",
      "5412 seconds: completed 14180000 rows\n"
     ]
    },
    {
     "name": "stderr",
     "output_type": "stream",
     "text": [
      "/home/char/.virtualenvs/data-science/lib/python3.6/site-packages/IPython/core/interactiveshell.py:2717: DtypeWarning:\n",
      "\n",
      "Columns (39,40,48) have mixed types. Specify dtype option on import or set low_memory=False.\n",
      "\n"
     ]
    },
    {
     "name": "stdout",
     "output_type": "stream",
     "text": [
      "5420 seconds: completed 14200000 rows\n"
     ]
    },
    {
     "name": "stderr",
     "output_type": "stream",
     "text": [
      "/home/char/.virtualenvs/data-science/lib/python3.6/site-packages/IPython/core/interactiveshell.py:2717: DtypeWarning:\n",
      "\n",
      "Columns (8,39,40) have mixed types. Specify dtype option on import or set low_memory=False.\n",
      "\n"
     ]
    },
    {
     "name": "stdout",
     "output_type": "stream",
     "text": [
      "5428 seconds: completed 14220000 rows\n"
     ]
    },
    {
     "name": "stderr",
     "output_type": "stream",
     "text": [
      "/home/char/.virtualenvs/data-science/lib/python3.6/site-packages/IPython/core/interactiveshell.py:2717: DtypeWarning:\n",
      "\n",
      "Columns (17,39,40,41) have mixed types. Specify dtype option on import or set low_memory=False.\n",
      "\n"
     ]
    },
    {
     "name": "stdout",
     "output_type": "stream",
     "text": [
      "5435 seconds: completed 14240000 rows\n",
      "5443 seconds: completed 14260000 rows\n",
      "5450 seconds: completed 14280000 rows\n",
      "5458 seconds: completed 14300000 rows\n"
     ]
    },
    {
     "name": "stderr",
     "output_type": "stream",
     "text": [
      "/home/char/.virtualenvs/data-science/lib/python3.6/site-packages/IPython/core/interactiveshell.py:2717: DtypeWarning:\n",
      "\n",
      "Columns (8,17,39,40,41) have mixed types. Specify dtype option on import or set low_memory=False.\n",
      "\n"
     ]
    },
    {
     "name": "stdout",
     "output_type": "stream",
     "text": [
      "5465 seconds: completed 14320000 rows\n",
      "5473 seconds: completed 14340000 rows\n",
      "5480 seconds: completed 14360000 rows\n"
     ]
    },
    {
     "name": "stderr",
     "output_type": "stream",
     "text": [
      "/home/char/.virtualenvs/data-science/lib/python3.6/site-packages/IPython/core/interactiveshell.py:2717: DtypeWarning:\n",
      "\n",
      "Columns (8,17,39,40,41,43,44,45,46,47,48) have mixed types. Specify dtype option on import or set low_memory=False.\n",
      "\n"
     ]
    },
    {
     "name": "stdout",
     "output_type": "stream",
     "text": [
      "5488 seconds: completed 14380000 rows\n",
      "5495 seconds: completed 14400000 rows\n",
      "5502 seconds: completed 14420000 rows\n",
      "5510 seconds: completed 14440000 rows\n",
      "5518 seconds: completed 14460000 rows\n",
      "5525 seconds: completed 14480000 rows\n"
     ]
    },
    {
     "name": "stderr",
     "output_type": "stream",
     "text": [
      "/home/char/.virtualenvs/data-science/lib/python3.6/site-packages/IPython/core/interactiveshell.py:2717: DtypeWarning:\n",
      "\n",
      "Columns (8,17,39,40,47,48) have mixed types. Specify dtype option on import or set low_memory=False.\n",
      "\n"
     ]
    },
    {
     "name": "stdout",
     "output_type": "stream",
     "text": [
      "5533 seconds: completed 14500000 rows\n",
      "5540 seconds: completed 14520000 rows\n",
      "5548 seconds: completed 14540000 rows\n",
      "5555 seconds: completed 14560000 rows\n",
      "5563 seconds: completed 14580000 rows\n",
      "5571 seconds: completed 14600000 rows\n"
     ]
    },
    {
     "name": "stderr",
     "output_type": "stream",
     "text": [
      "/home/char/.virtualenvs/data-science/lib/python3.6/site-packages/IPython/core/interactiveshell.py:2717: DtypeWarning:\n",
      "\n",
      "Columns (8,17,39,40,41,47,48) have mixed types. Specify dtype option on import or set low_memory=False.\n",
      "\n"
     ]
    },
    {
     "name": "stdout",
     "output_type": "stream",
     "text": [
      "5579 seconds: completed 14620000 rows\n"
     ]
    },
    {
     "name": "stderr",
     "output_type": "stream",
     "text": [
      "/home/char/.virtualenvs/data-science/lib/python3.6/site-packages/IPython/core/interactiveshell.py:2717: DtypeWarning:\n",
      "\n",
      "Columns (17,39,40,41,43,44,45,46,47,48,49) have mixed types. Specify dtype option on import or set low_memory=False.\n",
      "\n"
     ]
    },
    {
     "name": "stdout",
     "output_type": "stream",
     "text": [
      "5587 seconds: completed 14640000 rows\n",
      "5589 seconds: completed 14660000 rows\n"
     ]
    }
   ],
   "source": [
    "start = dt.datetime.now()\n",
    "chunksize = 20000\n",
    "j = 0\n",
    "index_start = 1\n",
    "\n",
    "for df in pd.read_csv('311_Service_Requests_from_2010_to_Present.csv', chunksize=chunksize, iterator=True, encoding='utf-8'):\n",
    "    df = df.rename(columns={c: c.replace(' ', '') for c  in df.columns}) # Remove spaces from columns\n",
    "    \n",
    "    df['CreatedDate'] = pd.to_datetime(df['CreatedDate']) # Convert to datetimes\n",
    "    df['ClosedDate'] = pd.to_datetime(df['ClosedDate'])\n",
    "    \n",
    "    df.index += index_start\n",
    "    \n",
    "    # Removing uninteresting columns\n",
    "    columns = ['Agency', 'CreatedDate', 'ClosedDate', 'ComplaintType', 'Descriptor', 'CreatedDate', 'ClosedDate', 'TimeToCompletion', 'City']\n",
    "    \n",
    "    for c in df.columns:\n",
    "        if c not in columns:\n",
    "            df = df.drop(c, axis=1)\n",
    "    \n",
    "    j+=1\n",
    "    print('{} seconds: completed {} rows'.format((dt.datetime.now() - start).seconds, j*chunksize))\n",
    "          \n",
    "    df.to_sql('data', disk_engine, if_exists='append')\n",
    "    index_start = df.index[-1] + 1\n"
   ]
  },
  {
   "cell_type": "code",
   "execution_count": 19,
   "metadata": {
    "collapsed": false,
    "deletable": true,
    "editable": true
   },
   "outputs": [
    {
     "data": {
      "text/html": [
       "<div>\n",
       "<table border=\"1\" class=\"dataframe\">\n",
       "  <thead>\n",
       "    <tr style=\"text-align: right;\">\n",
       "      <th></th>\n",
       "      <th>index</th>\n",
       "      <th>CreatedDate</th>\n",
       "      <th>ClosedDate</th>\n",
       "      <th>Agency</th>\n",
       "      <th>ComplaintType</th>\n",
       "      <th>Descriptor</th>\n",
       "      <th>City</th>\n",
       "    </tr>\n",
       "  </thead>\n",
       "  <tbody>\n",
       "    <tr>\n",
       "      <th>0</th>\n",
       "      <td>1</td>\n",
       "      <td>2010-02-23 00:00:00.000000</td>\n",
       "      <td>2010-03-08 00:00:00.000000</td>\n",
       "      <td>HPD</td>\n",
       "      <td>PAINT - PLASTER</td>\n",
       "      <td>CEILING</td>\n",
       "      <td>STATEN ISLAND</td>\n",
       "    </tr>\n",
       "    <tr>\n",
       "      <th>1</th>\n",
       "      <td>2</td>\n",
       "      <td>2010-02-23 00:00:00.000000</td>\n",
       "      <td>2010-03-11 00:00:00.000000</td>\n",
       "      <td>HPD</td>\n",
       "      <td>PAINT - PLASTER</td>\n",
       "      <td>CEILING</td>\n",
       "      <td>NEW YORK</td>\n",
       "    </tr>\n",
       "    <tr>\n",
       "      <th>2</th>\n",
       "      <td>3</td>\n",
       "      <td>2010-02-23 00:00:00.000000</td>\n",
       "      <td>2010-03-15 00:00:00.000000</td>\n",
       "      <td>HPD</td>\n",
       "      <td>PAINT - PLASTER</td>\n",
       "      <td>CEILING</td>\n",
       "      <td>BROOKLYN</td>\n",
       "    </tr>\n",
       "  </tbody>\n",
       "</table>\n",
       "</div>"
      ],
      "text/plain": [
       "   index                 CreatedDate                  ClosedDate Agency  \\\n",
       "0      1  2010-02-23 00:00:00.000000  2010-03-08 00:00:00.000000    HPD   \n",
       "1      2  2010-02-23 00:00:00.000000  2010-03-11 00:00:00.000000    HPD   \n",
       "2      3  2010-02-23 00:00:00.000000  2010-03-15 00:00:00.000000    HPD   \n",
       "\n",
       "     ComplaintType Descriptor           City  \n",
       "0  PAINT - PLASTER    CEILING  STATEN ISLAND  \n",
       "1  PAINT - PLASTER    CEILING       NEW YORK  \n",
       "2  PAINT - PLASTER    CEILING       BROOKLYN  "
      ]
     },
     "execution_count": 19,
     "metadata": {},
     "output_type": "execute_result"
    }
   ],
   "source": [
    "df = pd.read_sql_query('SELECT * FROM data LIMIT 3', disk_engine)\n",
    "df.head()"
   ]
  },
  {
   "cell_type": "code",
   "execution_count": 22,
   "metadata": {
    "collapsed": false,
    "deletable": true,
    "editable": true
   },
   "outputs": [
    {
     "data": {
      "text/html": [
       "<div>\n",
       "<table border=\"1\" class=\"dataframe\">\n",
       "  <thead>\n",
       "    <tr style=\"text-align: right;\">\n",
       "      <th></th>\n",
       "      <th>index</th>\n",
       "      <th>CreatedDate</th>\n",
       "      <th>ClosedDate</th>\n",
       "      <th>Agency</th>\n",
       "      <th>ComplaintType</th>\n",
       "      <th>Descriptor</th>\n",
       "      <th>City</th>\n",
       "    </tr>\n",
       "  </thead>\n",
       "  <tbody>\n",
       "    <tr>\n",
       "      <th>0</th>\n",
       "      <td>1</td>\n",
       "      <td>2010-02-23 00:00:00.000000</td>\n",
       "      <td>2010-03-08 00:00:00.000000</td>\n",
       "      <td>HPD</td>\n",
       "      <td>PAINT - PLASTER</td>\n",
       "      <td>CEILING</td>\n",
       "      <td>STATEN ISLAND</td>\n",
       "    </tr>\n",
       "    <tr>\n",
       "      <th>1</th>\n",
       "      <td>2</td>\n",
       "      <td>2010-02-23 00:00:00.000000</td>\n",
       "      <td>2010-03-11 00:00:00.000000</td>\n",
       "      <td>HPD</td>\n",
       "      <td>PAINT - PLASTER</td>\n",
       "      <td>CEILING</td>\n",
       "      <td>NEW YORK</td>\n",
       "    </tr>\n",
       "    <tr>\n",
       "      <th>2</th>\n",
       "      <td>3</td>\n",
       "      <td>2010-02-23 00:00:00.000000</td>\n",
       "      <td>2010-03-15 00:00:00.000000</td>\n",
       "      <td>HPD</td>\n",
       "      <td>PAINT - PLASTER</td>\n",
       "      <td>CEILING</td>\n",
       "      <td>BROOKLYN</td>\n",
       "    </tr>\n",
       "  </tbody>\n",
       "</table>\n",
       "</div>"
      ],
      "text/plain": [
       "   index                 CreatedDate                  ClosedDate Agency  \\\n",
       "0      1  2010-02-23 00:00:00.000000  2010-03-08 00:00:00.000000    HPD   \n",
       "1      2  2010-02-23 00:00:00.000000  2010-03-11 00:00:00.000000    HPD   \n",
       "2      3  2010-02-23 00:00:00.000000  2010-03-15 00:00:00.000000    HPD   \n",
       "\n",
       "     ComplaintType Descriptor           City  \n",
       "0  PAINT - PLASTER    CEILING  STATEN ISLAND  \n",
       "1  PAINT - PLASTER    CEILING       NEW YORK  \n",
       "2  PAINT - PLASTER    CEILING       BROOKLYN  "
      ]
     },
     "execution_count": 22,
     "metadata": {},
     "output_type": "execute_result"
    }
   ],
   "source": [
    "df = pd.read_sql_query('SELECT * FROM data LIMIT 3', disk_engine)\n",
    "df.head()"
   ]
  },
  {
   "cell_type": "code",
   "execution_count": 23,
   "metadata": {
    "collapsed": false,
    "deletable": true,
    "editable": true
   },
   "outputs": [
    {
     "data": {
      "text/html": [
       "<div>\n",
       "<table border=\"1\" class=\"dataframe\">\n",
       "  <thead>\n",
       "    <tr style=\"text-align: right;\">\n",
       "      <th></th>\n",
       "      <th>ComplaintType</th>\n",
       "      <th>Descriptor</th>\n",
       "      <th>Agency</th>\n",
       "    </tr>\n",
       "  </thead>\n",
       "  <tbody>\n",
       "    <tr>\n",
       "      <th>0</th>\n",
       "      <td>PAINT - PLASTER</td>\n",
       "      <td>CEILING</td>\n",
       "      <td>HPD</td>\n",
       "    </tr>\n",
       "    <tr>\n",
       "      <th>1</th>\n",
       "      <td>PAINT - PLASTER</td>\n",
       "      <td>CEILING</td>\n",
       "      <td>HPD</td>\n",
       "    </tr>\n",
       "    <tr>\n",
       "      <th>2</th>\n",
       "      <td>PAINT - PLASTER</td>\n",
       "      <td>CEILING</td>\n",
       "      <td>HPD</td>\n",
       "    </tr>\n",
       "    <tr>\n",
       "      <th>3</th>\n",
       "      <td>PAINT - PLASTER</td>\n",
       "      <td>CEILING</td>\n",
       "      <td>HPD</td>\n",
       "    </tr>\n",
       "    <tr>\n",
       "      <th>4</th>\n",
       "      <td>PAINT - PLASTER</td>\n",
       "      <td>CEILING</td>\n",
       "      <td>HPD</td>\n",
       "    </tr>\n",
       "    <tr>\n",
       "      <th>5</th>\n",
       "      <td>Street Condition</td>\n",
       "      <td>Failed Street Repair</td>\n",
       "      <td>DOT</td>\n",
       "    </tr>\n",
       "    <tr>\n",
       "      <th>6</th>\n",
       "      <td>HEATING</td>\n",
       "      <td>HEAT</td>\n",
       "      <td>HPD</td>\n",
       "    </tr>\n",
       "    <tr>\n",
       "      <th>7</th>\n",
       "      <td>HEATING</td>\n",
       "      <td>HEAT</td>\n",
       "      <td>HPD</td>\n",
       "    </tr>\n",
       "    <tr>\n",
       "      <th>8</th>\n",
       "      <td>HEATING</td>\n",
       "      <td>HEAT</td>\n",
       "      <td>HPD</td>\n",
       "    </tr>\n",
       "    <tr>\n",
       "      <th>9</th>\n",
       "      <td>HEATING</td>\n",
       "      <td>HEAT</td>\n",
       "      <td>HPD</td>\n",
       "    </tr>\n",
       "  </tbody>\n",
       "</table>\n",
       "</div>"
      ],
      "text/plain": [
       "      ComplaintType            Descriptor Agency\n",
       "0   PAINT - PLASTER               CEILING    HPD\n",
       "1   PAINT - PLASTER               CEILING    HPD\n",
       "2   PAINT - PLASTER               CEILING    HPD\n",
       "3   PAINT - PLASTER               CEILING    HPD\n",
       "4   PAINT - PLASTER               CEILING    HPD\n",
       "5  Street Condition  Failed Street Repair    DOT\n",
       "6           HEATING                  HEAT    HPD\n",
       "7           HEATING                  HEAT    HPD\n",
       "8           HEATING                  HEAT    HPD\n",
       "9           HEATING                  HEAT    HPD"
      ]
     },
     "execution_count": 23,
     "metadata": {},
     "output_type": "execute_result"
    }
   ],
   "source": [
    "df = pd.read_sql_query('SELECT ComplaintType, Descriptor, Agency '\n",
    "                       'FROM data '\n",
    "                       'LIMIT 10 ', disk_engine)\n",
    "df"
   ]
  },
  {
   "cell_type": "code",
   "execution_count": 24,
   "metadata": {
    "collapsed": false,
    "deletable": true,
    "editable": true
   },
   "outputs": [
    {
     "data": {
      "text/html": [
       "<div>\n",
       "<table border=\"1\" class=\"dataframe\">\n",
       "  <thead>\n",
       "    <tr style=\"text-align: right;\">\n",
       "      <th></th>\n",
       "      <th>ComplaintType</th>\n",
       "      <th>Descriptor</th>\n",
       "      <th>Agency</th>\n",
       "    </tr>\n",
       "  </thead>\n",
       "  <tbody>\n",
       "    <tr>\n",
       "      <th>0</th>\n",
       "      <td>Traffic/Illegal Parking</td>\n",
       "      <td>Commercial Overnight Parking</td>\n",
       "      <td>NYPD</td>\n",
       "    </tr>\n",
       "    <tr>\n",
       "      <th>1</th>\n",
       "      <td>Traffic/Illegal Parking</td>\n",
       "      <td>Commercial Overnight Parking</td>\n",
       "      <td>NYPD</td>\n",
       "    </tr>\n",
       "    <tr>\n",
       "      <th>2</th>\n",
       "      <td>Noise - Residential</td>\n",
       "      <td>Banging/Pounding</td>\n",
       "      <td>NYPD</td>\n",
       "    </tr>\n",
       "    <tr>\n",
       "      <th>3</th>\n",
       "      <td>Blocked Driveway</td>\n",
       "      <td>No Access</td>\n",
       "      <td>NYPD</td>\n",
       "    </tr>\n",
       "    <tr>\n",
       "      <th>4</th>\n",
       "      <td>Noise - Residential</td>\n",
       "      <td>Banging/Pounding</td>\n",
       "      <td>NYPD</td>\n",
       "    </tr>\n",
       "  </tbody>\n",
       "</table>\n",
       "</div>"
      ],
      "text/plain": [
       "             ComplaintType                    Descriptor Agency\n",
       "0  Traffic/Illegal Parking  Commercial Overnight Parking   NYPD\n",
       "1  Traffic/Illegal Parking  Commercial Overnight Parking   NYPD\n",
       "2      Noise - Residential              Banging/Pounding   NYPD\n",
       "3         Blocked Driveway                     No Access   NYPD\n",
       "4      Noise - Residential              Banging/Pounding   NYPD"
      ]
     },
     "execution_count": 24,
     "metadata": {},
     "output_type": "execute_result"
    }
   ],
   "source": [
    "df = pd.read_sql_query('SELECT ComplaintType, Descriptor, Agency '\n",
    "                       'FROM data '\n",
    "                       'WHERE Agency = \"NYPD\" '\n",
    "                       'LIMIT 10', disk_engine)\n",
    "df.head()"
   ]
  },
  {
   "cell_type": "code",
   "execution_count": 10,
   "metadata": {
    "collapsed": false,
    "deletable": true,
    "editable": true,
    "scrolled": true
   },
   "outputs": [
    {
     "data": {
      "text/html": [
       "<div>\n",
       "<table border=\"1\" class=\"dataframe\">\n",
       "  <thead>\n",
       "    <tr style=\"text-align: right;\">\n",
       "      <th></th>\n",
       "      <th>ComplaintType</th>\n",
       "      <th>Descriptor</th>\n",
       "      <th>Agency</th>\n",
       "    </tr>\n",
       "  </thead>\n",
       "  <tbody>\n",
       "    <tr>\n",
       "      <th>0</th>\n",
       "      <td>General Construction/Plumbing</td>\n",
       "      <td>Fence - None/Inadequate</td>\n",
       "      <td>DOB</td>\n",
       "    </tr>\n",
       "    <tr>\n",
       "      <th>1</th>\n",
       "      <td>Building/Use</td>\n",
       "      <td>Illegal Conversion Of Residential Building/Space</td>\n",
       "      <td>DOB</td>\n",
       "    </tr>\n",
       "    <tr>\n",
       "      <th>2</th>\n",
       "      <td>General Construction/Plumbing</td>\n",
       "      <td>Debris - Falling Or In Danger Of Falling</td>\n",
       "      <td>DOB</td>\n",
       "    </tr>\n",
       "    <tr>\n",
       "      <th>3</th>\n",
       "      <td>Building/Use</td>\n",
       "      <td>Illegal Conversion Of Residential Building/Space</td>\n",
       "      <td>DOB</td>\n",
       "    </tr>\n",
       "    <tr>\n",
       "      <th>4</th>\n",
       "      <td>Plumbing</td>\n",
       "      <td>Failure To Retain Water/Improper Drainage- (LL...</td>\n",
       "      <td>DOB</td>\n",
       "    </tr>\n",
       "  </tbody>\n",
       "</table>\n",
       "</div>"
      ],
      "text/plain": [
       "                   ComplaintType  \\\n",
       "0  General Construction/Plumbing   \n",
       "1                   Building/Use   \n",
       "2  General Construction/Plumbing   \n",
       "3                   Building/Use   \n",
       "4                       Plumbing   \n",
       "\n",
       "                                          Descriptor Agency  \n",
       "0                            Fence - None/Inadequate    DOB  \n",
       "1   Illegal Conversion Of Residential Building/Space    DOB  \n",
       "2           Debris - Falling Or In Danger Of Falling    DOB  \n",
       "3   Illegal Conversion Of Residential Building/Space    DOB  \n",
       "4  Failure To Retain Water/Improper Drainage- (LL...    DOB  "
      ]
     },
     "execution_count": 10,
     "metadata": {},
     "output_type": "execute_result"
    }
   ],
   "source": [
    "df = pd.read_sql_query('SELECT ComplaintType, Descriptor, Agency '\n",
    "                       'FROM data '\n",
    "                       'WHERE Agency IN (\"NYPD\", \"DOB\") '\n",
    "                       'LIMIT 10 ', disk_engine)\n",
    "df.head()"
   ]
  },
  {
   "cell_type": "code",
   "execution_count": 30,
   "metadata": {
    "collapsed": false,
    "deletable": true,
    "editable": true
   },
   "outputs": [
    {
     "data": {
      "text/html": [
       "<div>\n",
       "<table border=\"1\" class=\"dataframe\">\n",
       "  <thead>\n",
       "    <tr style=\"text-align: right;\">\n",
       "      <th></th>\n",
       "      <th>City</th>\n",
       "    </tr>\n",
       "  </thead>\n",
       "  <tbody>\n",
       "    <tr>\n",
       "      <th>0</th>\n",
       "      <td>STATEN ISLAND</td>\n",
       "    </tr>\n",
       "    <tr>\n",
       "      <th>1</th>\n",
       "      <td>NEW YORK</td>\n",
       "    </tr>\n",
       "    <tr>\n",
       "      <th>2</th>\n",
       "      <td>BROOKLYN</td>\n",
       "    </tr>\n",
       "    <tr>\n",
       "      <th>3</th>\n",
       "      <td>ASTORIA</td>\n",
       "    </tr>\n",
       "    <tr>\n",
       "      <th>4</th>\n",
       "      <td>OZONE PARK</td>\n",
       "    </tr>\n",
       "  </tbody>\n",
       "</table>\n",
       "</div>"
      ],
      "text/plain": [
       "            City\n",
       "0  STATEN ISLAND\n",
       "1       NEW YORK\n",
       "2       BROOKLYN\n",
       "3        ASTORIA\n",
       "4     OZONE PARK"
      ]
     },
     "execution_count": 30,
     "metadata": {},
     "output_type": "execute_result"
    }
   ],
   "source": [
    "df = pd.read_sql_query('SELECT DISTINCT City FROM data', disk_engine)\n",
    "df.head()"
   ]
  },
  {
   "cell_type": "code",
   "execution_count": 31,
   "metadata": {
    "collapsed": false,
    "deletable": true,
    "editable": true
   },
   "outputs": [
    {
     "data": {
      "text/html": [
       "<div>\n",
       "<table border=\"1\" class=\"dataframe\">\n",
       "  <thead>\n",
       "    <tr style=\"text-align: right;\">\n",
       "      <th></th>\n",
       "      <th>Agency</th>\n",
       "      <th>num_complaints</th>\n",
       "    </tr>\n",
       "  </thead>\n",
       "  <tbody>\n",
       "    <tr>\n",
       "      <th>0</th>\n",
       "      <td>3-1-1</td>\n",
       "      <td>48544</td>\n",
       "    </tr>\n",
       "    <tr>\n",
       "      <th>1</th>\n",
       "      <td>ACS</td>\n",
       "      <td>612</td>\n",
       "    </tr>\n",
       "    <tr>\n",
       "      <th>2</th>\n",
       "      <td>AJC</td>\n",
       "      <td>20</td>\n",
       "    </tr>\n",
       "    <tr>\n",
       "      <th>3</th>\n",
       "      <td>CAU</td>\n",
       "      <td>20</td>\n",
       "    </tr>\n",
       "    <tr>\n",
       "      <th>4</th>\n",
       "      <td>CCRB</td>\n",
       "      <td>26</td>\n",
       "    </tr>\n",
       "  </tbody>\n",
       "</table>\n",
       "</div>"
      ],
      "text/plain": [
       "  Agency  num_complaints\n",
       "0  3-1-1           48544\n",
       "1    ACS             612\n",
       "2    AJC              20\n",
       "3    CAU              20\n",
       "4   CCRB              26"
      ]
     },
     "execution_count": 31,
     "metadata": {},
     "output_type": "execute_result"
    }
   ],
   "source": [
    "df = pd.read_sql_query('SELECT Agency, COUNT(*) as `num_complaints`'\n",
    "                       'FROM data '\n",
    "                       'GROUP BY Agency ', disk_engine)\n",
    "df.head()"
   ]
  },
  {
   "cell_type": "code",
   "execution_count": 7,
   "metadata": {
    "collapsed": false,
    "deletable": true,
    "editable": true,
    "scrolled": true
   },
   "outputs": [
    {
     "data": {
      "text/html": [
       "<iframe id=\"igraph\" scrolling=\"no\" style=\"border:none;\" seamless=\"seamless\" src=\"https://plot.ly/~charliecf/3.embed\" height=\"525px\" width=\"100%\"></iframe>"
      ],
      "text/plain": [
       "<plotly.tools.PlotlyDisplay object>"
      ]
     },
     "execution_count": 7,
     "metadata": {},
     "output_type": "execute_result"
    }
   ],
   "source": [
    "df = pd.read_sql_query('SELECT Agency, COUNT(*) as `num_complaints`'\n",
    "                       'FROM data '\n",
    "                       'GROUP BY Agency '\n",
    "                       'ORDER BY -num_complaints', disk_engine)\n",
    "\n",
    "py.iplot([Bar(x=df.Agency, y=df.num_complaints)], filename='most common complaints by agency')"
   ]
  },
  {
   "cell_type": "code",
   "execution_count": 10,
   "metadata": {
    "collapsed": false,
    "deletable": true,
    "editable": true
   },
   "outputs": [
    {
     "data": {
      "text/html": [
       "<iframe id=\"igraph\" scrolling=\"no\" style=\"border:none;\" seamless=\"seamless\" src=\"https://plot.ly/~charliecf/6.embed\" height=\"525px\" width=\"100%\"></iframe>"
      ],
      "text/plain": [
       "<plotly.tools.PlotlyDisplay object>"
      ]
     },
     "execution_count": 10,
     "metadata": {},
     "output_type": "execute_result"
    }
   ],
   "source": [
    "df = pd.read_sql_query('SELECT ComplaintType, COUNT(*) as `num_complaints`, Agency '\n",
    "                       'FROM data '\n",
    "                       'GROUP BY `ComplaintType` '\n",
    "                       'ORDER BY -num_complaints', disk_engine)\n",
    "\n",
    "\n",
    "most_common_complaints = df # used later\n",
    "py.iplot({\n",
    "    'data': [Bar(x=df['ComplaintType'], y=df.num_complaints)],\n",
    "    'layout': { \n",
    "        'margin': {'b': 150}, # Make the bottom margin a bit bigger to handle the long text\n",
    "        'xaxis': {'tickangle': 40}} # Angle the labels a bit\n",
    "    }, filename='most common complaints by complaint type')"
   ]
  },
  {
   "cell_type": "code",
   "execution_count": 12,
   "metadata": {
    "collapsed": false,
    "deletable": true,
    "editable": true
   },
   "outputs": [
    {
     "data": {
      "text/plain": [
       "2241"
      ]
     },
     "execution_count": 12,
     "metadata": {},
     "output_type": "execute_result"
    }
   ],
   "source": [
    "len(pd.read_sql_query('SELECT DISTINCT City FROM data', disk_engine))"
   ]
  },
  {
   "cell_type": "code",
   "execution_count": 19,
   "metadata": {
    "collapsed": false
   },
   "outputs": [
    {
     "data": {
      "text/html": [
       "<div>\n",
       "<table border=\"1\" class=\"dataframe\">\n",
       "  <thead>\n",
       "    <tr style=\"text-align: right;\">\n",
       "      <th></th>\n",
       "      <th>City</th>\n",
       "      <th>num_complaints</th>\n",
       "    </tr>\n",
       "  </thead>\n",
       "  <tbody>\n",
       "    <tr>\n",
       "      <th>0</th>\n",
       "      <td>BROOKLYN</td>\n",
       "      <td>8628272</td>\n",
       "    </tr>\n",
       "    <tr>\n",
       "      <th>1</th>\n",
       "      <td>NEW YORK</td>\n",
       "      <td>5650168</td>\n",
       "    </tr>\n",
       "    <tr>\n",
       "      <th>2</th>\n",
       "      <td>BRONX</td>\n",
       "      <td>5277382</td>\n",
       "    </tr>\n",
       "    <tr>\n",
       "      <th>3</th>\n",
       "      <td>None</td>\n",
       "      <td>2078072</td>\n",
       "    </tr>\n",
       "    <tr>\n",
       "      <th>4</th>\n",
       "      <td>STATEN ISLAND</td>\n",
       "      <td>1382424</td>\n",
       "    </tr>\n",
       "    <tr>\n",
       "      <th>5</th>\n",
       "      <td>JAMAICA</td>\n",
       "      <td>425162</td>\n",
       "    </tr>\n",
       "    <tr>\n",
       "      <th>6</th>\n",
       "      <td>FLUSHING</td>\n",
       "      <td>335688</td>\n",
       "    </tr>\n",
       "    <tr>\n",
       "      <th>7</th>\n",
       "      <td>ASTORIA</td>\n",
       "      <td>277058</td>\n",
       "    </tr>\n",
       "    <tr>\n",
       "      <th>8</th>\n",
       "      <td>Jamaica</td>\n",
       "      <td>263686</td>\n",
       "    </tr>\n",
       "    <tr>\n",
       "      <th>9</th>\n",
       "      <td>RIDGEWOOD</td>\n",
       "      <td>204258</td>\n",
       "    </tr>\n",
       "  </tbody>\n",
       "</table>\n",
       "</div>"
      ],
      "text/plain": [
       "            City  num_complaints\n",
       "0       BROOKLYN         8628272\n",
       "1       NEW YORK         5650168\n",
       "2          BRONX         5277382\n",
       "3           None         2078072\n",
       "4  STATEN ISLAND         1382424\n",
       "5        JAMAICA          425162\n",
       "6       FLUSHING          335688\n",
       "7        ASTORIA          277058\n",
       "8        Jamaica          263686\n",
       "9      RIDGEWOOD          204258"
      ]
     },
     "execution_count": 19,
     "metadata": {},
     "output_type": "execute_result"
    }
   ],
   "source": [
    "df = pd.read_sql_query('SELECT City, COUNT(*) as `num_complaints` '\n",
    "                       'FROM data '\n",
    "                       'GROUP BY `City` '\n",
    "                       'ORDER BY -num_complaints '\n",
    "                       'LIMIT 10 ', disk_engine)\n",
    "df"
   ]
  },
  {
   "cell_type": "code",
   "execution_count": 24,
   "metadata": {
    "collapsed": false
   },
   "outputs": [
    {
     "data": {
      "text/html": [
       "<div>\n",
       "<table border=\"1\" class=\"dataframe\">\n",
       "  <thead>\n",
       "    <tr style=\"text-align: right;\">\n",
       "      <th></th>\n",
       "      <th>City</th>\n",
       "      <th>num_complaints</th>\n",
       "    </tr>\n",
       "  </thead>\n",
       "  <tbody>\n",
       "    <tr>\n",
       "      <th>0</th>\n",
       "      <td>BROOKLYN</td>\n",
       "      <td>8628272</td>\n",
       "    </tr>\n",
       "    <tr>\n",
       "      <th>1</th>\n",
       "      <td>NEW YORK</td>\n",
       "      <td>5650172</td>\n",
       "    </tr>\n",
       "    <tr>\n",
       "      <th>2</th>\n",
       "      <td>BRONX</td>\n",
       "      <td>5277382</td>\n",
       "    </tr>\n",
       "    <tr>\n",
       "      <th>3</th>\n",
       "      <td>None</td>\n",
       "      <td>2078072</td>\n",
       "    </tr>\n",
       "    <tr>\n",
       "      <th>4</th>\n",
       "      <td>STATEN ISLAND</td>\n",
       "      <td>1382424</td>\n",
       "    </tr>\n",
       "    <tr>\n",
       "      <th>5</th>\n",
       "      <td>JAMAICA</td>\n",
       "      <td>688848</td>\n",
       "    </tr>\n",
       "    <tr>\n",
       "      <th>6</th>\n",
       "      <td>FLUSHING</td>\n",
       "      <td>518704</td>\n",
       "    </tr>\n",
       "    <tr>\n",
       "      <th>7</th>\n",
       "      <td>ASTORIA</td>\n",
       "      <td>431654</td>\n",
       "    </tr>\n",
       "    <tr>\n",
       "      <th>8</th>\n",
       "      <td>RIDGEWOOD</td>\n",
       "      <td>312586</td>\n",
       "    </tr>\n",
       "    <tr>\n",
       "      <th>9</th>\n",
       "      <td>CORONA</td>\n",
       "      <td>225752</td>\n",
       "    </tr>\n",
       "    <tr>\n",
       "      <th>10</th>\n",
       "      <td>WOODSIDE</td>\n",
       "      <td>216202</td>\n",
       "    </tr>\n",
       "  </tbody>\n",
       "</table>\n",
       "</div>"
      ],
      "text/plain": [
       "             City  num_complaints\n",
       "0        BROOKLYN         8628272\n",
       "1        NEW YORK         5650172\n",
       "2           BRONX         5277382\n",
       "3            None         2078072\n",
       "4   STATEN ISLAND         1382424\n",
       "5         JAMAICA          688848\n",
       "6        FLUSHING          518704\n",
       "7         ASTORIA          431654\n",
       "8       RIDGEWOOD          312586\n",
       "9          CORONA          225752\n",
       "10       WOODSIDE          216202"
      ]
     },
     "execution_count": 24,
     "metadata": {},
     "output_type": "execute_result"
    }
   ],
   "source": [
    "df = pd.read_sql_query('SELECT City, COUNT(*) as `num_complaints` '\n",
    "                       'FROM data '\n",
    "                       'GROUP BY `City` '\n",
    "                       'COLLATE NOCASE '\n",
    "                       'ORDER BY -num_complaints '\n",
    "                       'LIMIT 11 ', disk_engine)\n",
    "df"
   ]
  },
  {
   "cell_type": "code",
   "execution_count": 23,
   "metadata": {
    "collapsed": true
   },
   "outputs": [],
   "source": [
    "cities = list(df.City)\n",
    "cities.remove(None)"
   ]
  },
  {
   "cell_type": "code",
   "execution_count": 26,
   "metadata": {
    "collapsed": false
   },
   "outputs": [],
   "source": [
    "traces = [] # the series in the graph - one trace for each city\n",
    "\n",
    "for city in cities:\n",
    "    df = pd.read_sql_query('SELECT ComplaintType, COUNT(*) as `num_complaints` '\n",
    "                           'FROM data '\n",
    "                           'WHERE City = \"{}\" COLLATE NOCASE '\n",
    "                           'GROUP BY `ComplaintType` '\n",
    "                           'ORDER BY -num_complaints'.format(city), disk_engine)\n",
    "\n",
    "    traces.append(Bar(x=df['ComplaintType'], y=df.num_complaints, name=city.capitalize()))\n"
   ]
  },
  {
   "cell_type": "code",
   "execution_count": 28,
   "metadata": {
    "collapsed": false
   },
   "outputs": [
    {
     "data": {
      "text/html": [
       "<iframe id=\"igraph\" scrolling=\"no\" style=\"border:none;\" seamless=\"seamless\" src=\"https://plot.ly/~charliecf/10.embed\" height=\"525px\" width=\"100%\"></iframe>"
      ],
      "text/plain": [
       "<plotly.tools.PlotlyDisplay object>"
      ]
     },
     "execution_count": 28,
     "metadata": {},
     "output_type": "execute_result"
    }
   ],
   "source": [
    "py.iplot({'data': traces, 'layout': Layout(barmode='stack', xaxis={'tickangle': 40}, margin={'b': 150})}, filename='complaints by city stacked')"
   ]
  },
  {
   "cell_type": "code",
   "execution_count": 30,
   "metadata": {
    "collapsed": true
   },
   "outputs": [],
   "source": [
    "for trace in traces:\n",
    "    trace['y'] = 100.*trace['y']/sum(trace['y'])"
   ]
  },
  {
   "cell_type": "code",
   "execution_count": 32,
   "metadata": {
    "collapsed": false
   },
   "outputs": [
    {
     "data": {
      "text/html": [
       "<iframe id=\"igraph\" scrolling=\"no\" style=\"border:none;\" seamless=\"seamless\" src=\"https://plot.ly/~charliecf/13.embed\" height=\"525px\" width=\"100%\"></iframe>"
      ],
      "text/plain": [
       "<plotly.tools.PlotlyDisplay object>"
      ]
     },
     "execution_count": 32,
     "metadata": {},
     "output_type": "execute_result"
    }
   ],
   "source": [
    "py.iplot({'data': traces, \n",
    "          'layout': Layout(\n",
    "                barmode='group',\n",
    "                xaxis={'tickangle': 40, 'autorange': False, 'range': [-0.5, 16]},\n",
    "                yaxis={'title': 'Percent of Complaints by City'},\n",
    "                margin={'b': 150},\n",
    "                title='Relative Number of 311 Complaints by City')\n",
    "         }, filename='relative complaints by city', validate=False)"
   ]
  },
  {
   "cell_type": "code",
   "execution_count": 33,
   "metadata": {
    "collapsed": false
   },
   "outputs": [
    {
     "data": {
      "text/html": [
       "<div>\n",
       "<table border=\"1\" class=\"dataframe\">\n",
       "  <thead>\n",
       "    <tr style=\"text-align: right;\">\n",
       "      <th></th>\n",
       "      <th>ComplaintType</th>\n",
       "      <th>CreatedDate</th>\n",
       "      <th>City</th>\n",
       "    </tr>\n",
       "  </thead>\n",
       "  <tbody>\n",
       "    <tr>\n",
       "      <th>0</th>\n",
       "      <td>Derelict Vehicles</td>\n",
       "      <td>2014-11-16 23:46:00.000000</td>\n",
       "      <td>Jamaica</td>\n",
       "    </tr>\n",
       "    <tr>\n",
       "      <th>1</th>\n",
       "      <td>Noise - Commercial</td>\n",
       "      <td>2014-11-16 23:46:08.000000</td>\n",
       "      <td>ASTORIA</td>\n",
       "    </tr>\n",
       "    <tr>\n",
       "      <th>2</th>\n",
       "      <td>Noise - Street/Sidewalk</td>\n",
       "      <td>2014-11-16 23:45:10.000000</td>\n",
       "      <td>NEW YORK</td>\n",
       "    </tr>\n",
       "    <tr>\n",
       "      <th>3</th>\n",
       "      <td>Blocked Driveway</td>\n",
       "      <td>2014-11-16 23:45:43.000000</td>\n",
       "      <td>BROOKLYN</td>\n",
       "    </tr>\n",
       "    <tr>\n",
       "      <th>4</th>\n",
       "      <td>Derelict Vehicle</td>\n",
       "      <td>2014-11-16 23:46:57.000000</td>\n",
       "      <td>RIDGEWOOD</td>\n",
       "    </tr>\n",
       "    <tr>\n",
       "      <th>5</th>\n",
       "      <td>School Maintenance</td>\n",
       "      <td>2014-11-16 23:45:41.000000</td>\n",
       "      <td>BRONX</td>\n",
       "    </tr>\n",
       "    <tr>\n",
       "      <th>6</th>\n",
       "      <td>Benefit Card Replacement</td>\n",
       "      <td>2014-11-16 23:45:55.000000</td>\n",
       "      <td>None</td>\n",
       "    </tr>\n",
       "    <tr>\n",
       "      <th>7</th>\n",
       "      <td>Derelict Vehicles</td>\n",
       "      <td>2014-11-16 23:46:00.000000</td>\n",
       "      <td>Jamaica</td>\n",
       "    </tr>\n",
       "    <tr>\n",
       "      <th>8</th>\n",
       "      <td>Noise - Commercial</td>\n",
       "      <td>2014-11-16 23:46:08.000000</td>\n",
       "      <td>ASTORIA</td>\n",
       "    </tr>\n",
       "    <tr>\n",
       "      <th>9</th>\n",
       "      <td>Noise - Street/Sidewalk</td>\n",
       "      <td>2014-11-16 23:45:10.000000</td>\n",
       "      <td>NEW YORK</td>\n",
       "    </tr>\n",
       "    <tr>\n",
       "      <th>10</th>\n",
       "      <td>Blocked Driveway</td>\n",
       "      <td>2014-11-16 23:45:43.000000</td>\n",
       "      <td>BROOKLYN</td>\n",
       "    </tr>\n",
       "    <tr>\n",
       "      <th>11</th>\n",
       "      <td>Derelict Vehicle</td>\n",
       "      <td>2014-11-16 23:46:57.000000</td>\n",
       "      <td>RIDGEWOOD</td>\n",
       "    </tr>\n",
       "    <tr>\n",
       "      <th>12</th>\n",
       "      <td>School Maintenance</td>\n",
       "      <td>2014-11-16 23:45:41.000000</td>\n",
       "      <td>BRONX</td>\n",
       "    </tr>\n",
       "    <tr>\n",
       "      <th>13</th>\n",
       "      <td>Benefit Card Replacement</td>\n",
       "      <td>2014-11-16 23:45:55.000000</td>\n",
       "      <td>None</td>\n",
       "    </tr>\n",
       "  </tbody>\n",
       "</table>\n",
       "</div>"
      ],
      "text/plain": [
       "               ComplaintType                 CreatedDate       City\n",
       "0          Derelict Vehicles  2014-11-16 23:46:00.000000    Jamaica\n",
       "1         Noise - Commercial  2014-11-16 23:46:08.000000    ASTORIA\n",
       "2    Noise - Street/Sidewalk  2014-11-16 23:45:10.000000   NEW YORK\n",
       "3           Blocked Driveway  2014-11-16 23:45:43.000000   BROOKLYN\n",
       "4           Derelict Vehicle  2014-11-16 23:46:57.000000  RIDGEWOOD\n",
       "5         School Maintenance  2014-11-16 23:45:41.000000      BRONX\n",
       "6   Benefit Card Replacement  2014-11-16 23:45:55.000000       None\n",
       "7          Derelict Vehicles  2014-11-16 23:46:00.000000    Jamaica\n",
       "8         Noise - Commercial  2014-11-16 23:46:08.000000    ASTORIA\n",
       "9    Noise - Street/Sidewalk  2014-11-16 23:45:10.000000   NEW YORK\n",
       "10          Blocked Driveway  2014-11-16 23:45:43.000000   BROOKLYN\n",
       "11          Derelict Vehicle  2014-11-16 23:46:57.000000  RIDGEWOOD\n",
       "12        School Maintenance  2014-11-16 23:45:41.000000      BRONX\n",
       "13  Benefit Card Replacement  2014-11-16 23:45:55.000000       None"
      ]
     },
     "execution_count": 33,
     "metadata": {},
     "output_type": "execute_result"
    }
   ],
   "source": [
    "df = pd.read_sql_query('SELECT ComplaintType, CreatedDate, City '\n",
    "                       'FROM data '\n",
    "                       'WHERE CreatedDate < \"2014-11-16 23:47:00\" '\n",
    "                       'AND CreatedDate > \"2014-11-16 23:45:00\"', disk_engine)\n",
    "\n",
    "df"
   ]
  },
  {
   "cell_type": "code",
   "execution_count": 34,
   "metadata": {
    "collapsed": false
   },
   "outputs": [
    {
     "data": {
      "text/html": [
       "<div>\n",
       "<table border=\"1\" class=\"dataframe\">\n",
       "  <thead>\n",
       "    <tr style=\"text-align: right;\">\n",
       "      <th></th>\n",
       "      <th>CreatedDate</th>\n",
       "      <th>hour</th>\n",
       "      <th>ComplaintType</th>\n",
       "    </tr>\n",
       "  </thead>\n",
       "  <tbody>\n",
       "    <tr>\n",
       "      <th>0</th>\n",
       "      <td>2010-02-23 00:00:00.000000</td>\n",
       "      <td>00</td>\n",
       "      <td>PAINT - PLASTER</td>\n",
       "    </tr>\n",
       "    <tr>\n",
       "      <th>1</th>\n",
       "      <td>2010-02-23 00:00:00.000000</td>\n",
       "      <td>00</td>\n",
       "      <td>PAINT - PLASTER</td>\n",
       "    </tr>\n",
       "    <tr>\n",
       "      <th>2</th>\n",
       "      <td>2010-02-23 00:00:00.000000</td>\n",
       "      <td>00</td>\n",
       "      <td>PAINT - PLASTER</td>\n",
       "    </tr>\n",
       "    <tr>\n",
       "      <th>3</th>\n",
       "      <td>2010-02-23 00:00:00.000000</td>\n",
       "      <td>00</td>\n",
       "      <td>PAINT - PLASTER</td>\n",
       "    </tr>\n",
       "    <tr>\n",
       "      <th>4</th>\n",
       "      <td>2010-02-23 00:00:00.000000</td>\n",
       "      <td>00</td>\n",
       "      <td>PAINT - PLASTER</td>\n",
       "    </tr>\n",
       "  </tbody>\n",
       "</table>\n",
       "</div>"
      ],
      "text/plain": [
       "                  CreatedDate hour    ComplaintType\n",
       "0  2010-02-23 00:00:00.000000   00  PAINT - PLASTER\n",
       "1  2010-02-23 00:00:00.000000   00  PAINT - PLASTER\n",
       "2  2010-02-23 00:00:00.000000   00  PAINT - PLASTER\n",
       "3  2010-02-23 00:00:00.000000   00  PAINT - PLASTER\n",
       "4  2010-02-23 00:00:00.000000   00  PAINT - PLASTER"
      ]
     },
     "execution_count": 34,
     "metadata": {},
     "output_type": "execute_result"
    }
   ],
   "source": [
    "df = pd.read_sql_query('SELECT CreatedDate, '\n",
    "                       'strftime(\\'%H\\', CreatedDate) as hour, '\n",
    "                       'ComplaintType '\n",
    "                       'FROM data '\n",
    "                       'LIMIT 5 ', disk_engine)\n",
    "\n",
    "df.head()"
   ]
  },
  {
   "cell_type": "code",
   "execution_count": 35,
   "metadata": {
    "collapsed": false
   },
   "outputs": [
    {
     "data": {
      "text/html": [
       "<div>\n",
       "<table border=\"1\" class=\"dataframe\">\n",
       "  <thead>\n",
       "    <tr style=\"text-align: right;\">\n",
       "      <th></th>\n",
       "      <th>CreatedDate</th>\n",
       "      <th>hour</th>\n",
       "      <th>Complaints per Hour</th>\n",
       "    </tr>\n",
       "  </thead>\n",
       "  <tbody>\n",
       "    <tr>\n",
       "      <th>0</th>\n",
       "      <td>2010-02-23 00:00:00.000000</td>\n",
       "      <td>00</td>\n",
       "      <td>7728008</td>\n",
       "    </tr>\n",
       "    <tr>\n",
       "      <th>1</th>\n",
       "      <td>2010-02-24 01:38:41.000000</td>\n",
       "      <td>01</td>\n",
       "      <td>469830</td>\n",
       "    </tr>\n",
       "    <tr>\n",
       "      <th>2</th>\n",
       "      <td>2010-02-23 02:54:36.000000</td>\n",
       "      <td>02</td>\n",
       "      <td>324768</td>\n",
       "    </tr>\n",
       "    <tr>\n",
       "      <th>3</th>\n",
       "      <td>2010-02-23 03:13:00.000000</td>\n",
       "      <td>03</td>\n",
       "      <td>208944</td>\n",
       "    </tr>\n",
       "    <tr>\n",
       "      <th>4</th>\n",
       "      <td>2010-02-23 04:35:23.000000</td>\n",
       "      <td>04</td>\n",
       "      <td>172504</td>\n",
       "    </tr>\n",
       "  </tbody>\n",
       "</table>\n",
       "</div>"
      ],
      "text/plain": [
       "                  CreatedDate hour  Complaints per Hour\n",
       "0  2010-02-23 00:00:00.000000   00              7728008\n",
       "1  2010-02-24 01:38:41.000000   01               469830\n",
       "2  2010-02-23 02:54:36.000000   02               324768\n",
       "3  2010-02-23 03:13:00.000000   03               208944\n",
       "4  2010-02-23 04:35:23.000000   04               172504"
      ]
     },
     "execution_count": 35,
     "metadata": {},
     "output_type": "execute_result"
    }
   ],
   "source": [
    "df = pd.read_sql_query('SELECT CreatedDate, '\n",
    "                               'strftime(\\'%H\\', CreatedDate) as hour,  '\n",
    "                               'count(*) as `Complaints per Hour`'\n",
    "                       'FROM data '\n",
    "                       'GROUP BY hour', disk_engine)\n",
    "\n",
    "df.head()"
   ]
  },
  {
   "cell_type": "code",
   "execution_count": 36,
   "metadata": {
    "collapsed": false
   },
   "outputs": [
    {
     "data": {
      "text/html": [
       "<iframe id=\"igraph\" scrolling=\"no\" style=\"border:none;\" seamless=\"seamless\" src=\"https://plot.ly/~charliecf/15.embed\" height=\"525px\" width=\"100%\"></iframe>"
      ],
      "text/plain": [
       "<plotly.tools.PlotlyDisplay object>"
      ]
     },
     "execution_count": 36,
     "metadata": {},
     "output_type": "execute_result"
    }
   ],
   "source": [
    "py.iplot({\n",
    "    'data': [Bar(x=df['hour'], y=df['Complaints per Hour'])],\n",
    "    'layout': Layout(xaxis={'title': 'Hour in Day'},\n",
    "                     yaxis={'title': 'Number of Complaints'})}, filename='complaints per hour')"
   ]
  },
  {
   "cell_type": "code",
   "execution_count": 38,
   "metadata": {
    "collapsed": false
   },
   "outputs": [
    {
     "data": {
      "text/html": [
       "<div>\n",
       "<table border=\"1\" class=\"dataframe\">\n",
       "  <thead>\n",
       "    <tr style=\"text-align: right;\">\n",
       "      <th></th>\n",
       "      <th>CreatedDate</th>\n",
       "      <th>hour</th>\n",
       "      <th>Complaints per Hour</th>\n",
       "    </tr>\n",
       "  </thead>\n",
       "  <tbody>\n",
       "    <tr>\n",
       "      <th>0</th>\n",
       "      <td>2010-02-24 00:47:10.000000</td>\n",
       "      <td>00</td>\n",
       "      <td>159146</td>\n",
       "    </tr>\n",
       "    <tr>\n",
       "      <th>1</th>\n",
       "      <td>2010-02-24 01:23:07.000000</td>\n",
       "      <td>01</td>\n",
       "      <td>125610</td>\n",
       "    </tr>\n",
       "  </tbody>\n",
       "</table>\n",
       "</div>"
      ],
      "text/plain": [
       "                  CreatedDate hour  Complaints per Hour\n",
       "0  2010-02-24 00:47:10.000000   00               159146\n",
       "1  2010-02-24 01:23:07.000000   01               125610"
      ]
     },
     "metadata": {},
     "output_type": "display_data"
    },
    {
     "data": {
      "text/html": [
       "<iframe id=\"igraph\" scrolling=\"no\" style=\"border:none;\" seamless=\"seamless\" src=\"https://plot.ly/~charliecf/18.embed\" height=\"525px\" width=\"100%\"></iframe>"
      ],
      "text/plain": [
       "<plotly.tools.PlotlyDisplay object>"
      ]
     },
     "execution_count": 38,
     "metadata": {},
     "output_type": "execute_result"
    }
   ],
   "source": [
    "df = pd.read_sql_query('SELECT CreatedDate, '\n",
    "                               'strftime(\\'%H\\', CreatedDate) as `hour`,  '\n",
    "                               'count(*) as `Complaints per Hour`'\n",
    "                       'FROM data '\n",
    "                       'WHERE ComplaintType IN (\"Noise\", '\n",
    "                                               '\"Noise - Street/Sidewalk\", '\n",
    "                                               '\"Noise - Commercial\", '\n",
    "                                               '\"Noise - Vehicle\", '\n",
    "                                               '\"Noise - Park\", '\n",
    "                                               '\"Noise - House of Worship\", '\n",
    "                                               '\"Noise - Helicopter\", '\n",
    "                                               '\"Collection Truck Noise\") '\n",
    "                       'GROUP BY hour', disk_engine)\n",
    "\n",
    "display(df.head(n=2))\n",
    "\n",
    "py.iplot({\n",
    "    'data': [Bar(x=df['hour'], y=df['Complaints per Hour'])],\n",
    "    'layout': Layout(xaxis={'title': 'Hour in Day'},\n",
    "                     yaxis={'title': 'Number of Complaints'},\n",
    "                     title='Number of Noise Complaints in NYC by Hour in Day'\n",
    "                    )}, filename='noise complaints per hour')"
   ]
  },
  {
   "cell_type": "code",
   "execution_count": 39,
   "metadata": {
    "collapsed": false
   },
   "outputs": [
    {
     "data": {
      "text/html": [
       "<div>\n",
       "<table border=\"1\" class=\"dataframe\">\n",
       "  <thead>\n",
       "    <tr style=\"text-align: right;\">\n",
       "      <th></th>\n",
       "      <th>CreatedDate</th>\n",
       "      <th>interval</th>\n",
       "    </tr>\n",
       "  </thead>\n",
       "  <tbody>\n",
       "    <tr>\n",
       "      <th>0</th>\n",
       "      <td>2010-02-23 00:00:00.000000</td>\n",
       "      <td>2010-02-23 00:00:00</td>\n",
       "    </tr>\n",
       "    <tr>\n",
       "      <th>1</th>\n",
       "      <td>2010-02-23 00:00:00.000000</td>\n",
       "      <td>2010-02-23 00:00:00</td>\n",
       "    </tr>\n",
       "    <tr>\n",
       "      <th>2</th>\n",
       "      <td>2010-02-23 00:00:00.000000</td>\n",
       "      <td>2010-02-23 00:00:00</td>\n",
       "    </tr>\n",
       "    <tr>\n",
       "      <th>3</th>\n",
       "      <td>2010-02-23 00:00:00.000000</td>\n",
       "      <td>2010-02-23 00:00:00</td>\n",
       "    </tr>\n",
       "    <tr>\n",
       "      <th>4</th>\n",
       "      <td>2010-02-23 00:00:00.000000</td>\n",
       "      <td>2010-02-23 00:00:00</td>\n",
       "    </tr>\n",
       "  </tbody>\n",
       "</table>\n",
       "</div>"
      ],
      "text/plain": [
       "                  CreatedDate             interval\n",
       "0  2010-02-23 00:00:00.000000  2010-02-23 00:00:00\n",
       "1  2010-02-23 00:00:00.000000  2010-02-23 00:00:00\n",
       "2  2010-02-23 00:00:00.000000  2010-02-23 00:00:00\n",
       "3  2010-02-23 00:00:00.000000  2010-02-23 00:00:00\n",
       "4  2010-02-23 00:00:00.000000  2010-02-23 00:00:00"
      ]
     },
     "metadata": {},
     "output_type": "display_data"
    }
   ],
   "source": [
    "minutes = 15\n",
    "seconds = 15*60\n",
    "\n",
    "df = pd.read_sql_query('SELECT CreatedDate, '\n",
    "                               'datetime(('\n",
    "                                   'strftime(\\'%s\\', CreatedDate) / {seconds}) * {seconds}, \\'unixepoch\\') interval '\n",
    "                       'FROM data '\n",
    "                       'LIMIT 10 '.format(seconds=seconds), disk_engine)\n",
    "\n",
    "display(df.head())"
   ]
  },
  {
   "cell_type": "code",
   "execution_count": 40,
   "metadata": {
    "collapsed": false
   },
   "outputs": [
    {
     "data": {
      "text/html": [
       "<div>\n",
       "<table border=\"1\" class=\"dataframe\">\n",
       "  <thead>\n",
       "    <tr style=\"text-align: right;\">\n",
       "      <th></th>\n",
       "      <th>interval</th>\n",
       "      <th>Complaints / interval</th>\n",
       "    </tr>\n",
       "  </thead>\n",
       "  <tbody>\n",
       "    <tr>\n",
       "      <th>0</th>\n",
       "      <td>2010-01-01 00:00:00</td>\n",
       "      <td>2568</td>\n",
       "    </tr>\n",
       "    <tr>\n",
       "      <th>1</th>\n",
       "      <td>2010-01-01 00:15:00</td>\n",
       "      <td>30</td>\n",
       "    </tr>\n",
       "    <tr>\n",
       "      <th>2</th>\n",
       "      <td>2010-01-01 00:30:00</td>\n",
       "      <td>28</td>\n",
       "    </tr>\n",
       "    <tr>\n",
       "      <th>3</th>\n",
       "      <td>2010-01-01 00:45:00</td>\n",
       "      <td>50</td>\n",
       "    </tr>\n",
       "    <tr>\n",
       "      <th>4</th>\n",
       "      <td>2010-01-01 01:00:00</td>\n",
       "      <td>62</td>\n",
       "    </tr>\n",
       "  </tbody>\n",
       "</table>\n",
       "</div>"
      ],
      "text/plain": [
       "              interval  Complaints / interval\n",
       "0  2010-01-01 00:00:00                   2568\n",
       "1  2010-01-01 00:15:00                     30\n",
       "2  2010-01-01 00:30:00                     28\n",
       "3  2010-01-01 00:45:00                     50\n",
       "4  2010-01-01 01:00:00                     62"
      ]
     },
     "metadata": {},
     "output_type": "display_data"
    },
    {
     "data": {
      "text/html": [
       "<div>\n",
       "<table border=\"1\" class=\"dataframe\">\n",
       "  <thead>\n",
       "    <tr style=\"text-align: right;\">\n",
       "      <th></th>\n",
       "      <th>interval</th>\n",
       "      <th>Complaints / interval</th>\n",
       "    </tr>\n",
       "  </thead>\n",
       "  <tbody>\n",
       "    <tr>\n",
       "      <th>495</th>\n",
       "      <td>2010-01-06 04:15:00</td>\n",
       "      <td>4</td>\n",
       "    </tr>\n",
       "    <tr>\n",
       "      <th>496</th>\n",
       "      <td>2010-01-06 04:45:00</td>\n",
       "      <td>12</td>\n",
       "    </tr>\n",
       "    <tr>\n",
       "      <th>497</th>\n",
       "      <td>2010-01-06 05:00:00</td>\n",
       "      <td>10</td>\n",
       "    </tr>\n",
       "    <tr>\n",
       "      <th>498</th>\n",
       "      <td>2010-01-06 05:15:00</td>\n",
       "      <td>18</td>\n",
       "    </tr>\n",
       "    <tr>\n",
       "      <th>499</th>\n",
       "      <td>2010-01-06 05:30:00</td>\n",
       "      <td>18</td>\n",
       "    </tr>\n",
       "  </tbody>\n",
       "</table>\n",
       "</div>"
      ],
      "text/plain": [
       "                interval  Complaints / interval\n",
       "495  2010-01-06 04:15:00                      4\n",
       "496  2010-01-06 04:45:00                     12\n",
       "497  2010-01-06 05:00:00                     10\n",
       "498  2010-01-06 05:15:00                     18\n",
       "499  2010-01-06 05:30:00                     18"
      ]
     },
     "metadata": {},
     "output_type": "display_data"
    }
   ],
   "source": [
    "minutes = 15\n",
    "seconds = minutes*60\n",
    "\n",
    "df = pd.read_sql_query('SELECT datetime(('\n",
    "                                   'strftime(\\'%s\\', CreatedDate) / {seconds}) * {seconds}, \\'unixepoch\\') interval ,'\n",
    "                               'COUNT(*) as \"Complaints / interval\"'\n",
    "                       'FROM data '\n",
    "                       'GROUP BY interval '\n",
    "                       'ORDER BY interval '\n",
    "                       'LIMIT 500'.format(seconds=seconds), disk_engine)\n",
    "\n",
    "display(df.head())\n",
    "display(df.tail())"
   ]
  },
  {
   "cell_type": "code",
   "execution_count": 41,
   "metadata": {
    "collapsed": false
   },
   "outputs": [
    {
     "data": {
      "text/html": [
       "<iframe id=\"igraph\" scrolling=\"no\" style=\"border:none;\" seamless=\"seamless\" src=\"https://plot.ly/~charliecf/20.embed\" height=\"525px\" width=\"100%\"></iframe>"
      ],
      "text/plain": [
       "<plotly.tools.PlotlyDisplay object>"
      ]
     },
     "execution_count": 41,
     "metadata": {},
     "output_type": "execute_result"
    }
   ],
   "source": [
    "py.iplot(\n",
    "    {\n",
    "        'data': [{\n",
    "            'x': df.interval,\n",
    "            'y': df['Complaints / interval'],\n",
    "            'type': 'bar'\n",
    "        }],\n",
    "        'layout': {\n",
    "            'title': 'Number of 311 Complaints per 15 Minutes'\n",
    "        }\n",
    "}, filename='complaints per 15 minutes')"
   ]
  },
  {
   "cell_type": "code",
   "execution_count": 42,
   "metadata": {
    "collapsed": false
   },
   "outputs": [
    {
     "data": {
      "text/html": [
       "<div>\n",
       "<table border=\"1\" class=\"dataframe\">\n",
       "  <thead>\n",
       "    <tr style=\"text-align: right;\">\n",
       "      <th></th>\n",
       "      <th>interval</th>\n",
       "      <th>Complaints / interval</th>\n",
       "    </tr>\n",
       "  </thead>\n",
       "  <tbody>\n",
       "    <tr>\n",
       "      <th>0</th>\n",
       "      <td>2010-01-01 00:00:00</td>\n",
       "      <td>5812</td>\n",
       "    </tr>\n",
       "    <tr>\n",
       "      <th>1</th>\n",
       "      <td>2010-01-02 00:00:00</td>\n",
       "      <td>7714</td>\n",
       "    </tr>\n",
       "    <tr>\n",
       "      <th>2</th>\n",
       "      <td>2010-01-03 00:00:00</td>\n",
       "      <td>11218</td>\n",
       "    </tr>\n",
       "    <tr>\n",
       "      <th>3</th>\n",
       "      <td>2010-01-04 00:00:00</td>\n",
       "      <td>18630</td>\n",
       "    </tr>\n",
       "    <tr>\n",
       "      <th>4</th>\n",
       "      <td>2010-01-05 00:00:00</td>\n",
       "      <td>16598</td>\n",
       "    </tr>\n",
       "  </tbody>\n",
       "</table>\n",
       "</div>"
      ],
      "text/plain": [
       "              interval  Complaints / interval\n",
       "0  2010-01-01 00:00:00                   5812\n",
       "1  2010-01-02 00:00:00                   7714\n",
       "2  2010-01-03 00:00:00                  11218\n",
       "3  2010-01-04 00:00:00                  18630\n",
       "4  2010-01-05 00:00:00                  16598"
      ]
     },
     "metadata": {},
     "output_type": "display_data"
    },
    {
     "data": {
      "text/html": [
       "<div>\n",
       "<table border=\"1\" class=\"dataframe\">\n",
       "  <thead>\n",
       "    <tr style=\"text-align: right;\">\n",
       "      <th></th>\n",
       "      <th>interval</th>\n",
       "      <th>Complaints / interval</th>\n",
       "    </tr>\n",
       "  </thead>\n",
       "  <tbody>\n",
       "    <tr>\n",
       "      <th>495</th>\n",
       "      <td>2011-05-11 00:00:00</td>\n",
       "      <td>11900</td>\n",
       "    </tr>\n",
       "    <tr>\n",
       "      <th>496</th>\n",
       "      <td>2011-05-12 00:00:00</td>\n",
       "      <td>11104</td>\n",
       "    </tr>\n",
       "    <tr>\n",
       "      <th>497</th>\n",
       "      <td>2011-05-13 00:00:00</td>\n",
       "      <td>10396</td>\n",
       "    </tr>\n",
       "    <tr>\n",
       "      <th>498</th>\n",
       "      <td>2011-05-14 00:00:00</td>\n",
       "      <td>5862</td>\n",
       "    </tr>\n",
       "    <tr>\n",
       "      <th>499</th>\n",
       "      <td>2011-05-15 00:00:00</td>\n",
       "      <td>4814</td>\n",
       "    </tr>\n",
       "  </tbody>\n",
       "</table>\n",
       "</div>"
      ],
      "text/plain": [
       "                interval  Complaints / interval\n",
       "495  2011-05-11 00:00:00                  11900\n",
       "496  2011-05-12 00:00:00                  11104\n",
       "497  2011-05-13 00:00:00                  10396\n",
       "498  2011-05-14 00:00:00                   5862\n",
       "499  2011-05-15 00:00:00                   4814"
      ]
     },
     "metadata": {},
     "output_type": "display_data"
    }
   ],
   "source": [
    "hours = 24\n",
    "minutes = hours*60\n",
    "seconds = minutes*60\n",
    "\n",
    "df = pd.read_sql_query('SELECT datetime(('\n",
    "                                    'strftime(\\'%s\\', CreatedDate) / {seconds}) * {seconds}, \\'unixepoch\\') interval ,'\n",
    "                                'COUNT(*) as \"Complaints / interval\"'\n",
    "                       'FROM data '\n",
    "                       'GROUP BY interval '\n",
    "                       'ORDER BY interval '\n",
    "                       'LIMIT 500 '.format(seconds=seconds), disk_engine)\n",
    "\n",
    "display(df.head())\n",
    "display(df.tail())"
   ]
  },
  {
   "cell_type": "code",
   "execution_count": 43,
   "metadata": {
    "collapsed": false
   },
   "outputs": [
    {
     "data": {
      "text/html": [
       "<iframe id=\"igraph\" scrolling=\"no\" style=\"border:none;\" seamless=\"seamless\" src=\"https://plot.ly/~charliecf/22.embed\" height=\"525px\" width=\"100%\"></iframe>"
      ],
      "text/plain": [
       "<plotly.tools.PlotlyDisplay object>"
      ]
     },
     "execution_count": 43,
     "metadata": {},
     "output_type": "execute_result"
    }
   ],
   "source": [
    "py.iplot(\n",
    "    {\n",
    "        'data': [{\n",
    "            'x': df.interval,\n",
    "            'y': df['Complaints / interval'],\n",
    "            'type': 'bar'\n",
    "        }],\n",
    "        'layout': {\n",
    "            'title': 'Number of 311 complaints per day'\n",
    "        }\n",
    "}, filename='complaints per day')"
   ]
  }
 ],
 "metadata": {
  "kernelspec": {
   "display_name": "Python 3",
   "language": "python",
   "name": "python3"
  },
  "language_info": {
   "codemirror_mode": {
    "name": "ipython",
    "version": 3
   },
   "file_extension": ".py",
   "mimetype": "text/x-python",
   "name": "python",
   "nbconvert_exporter": "python",
   "pygments_lexer": "ipython3",
   "version": "3.6.0"
  }
 },
 "nbformat": 4,
 "nbformat_minor": 2
}
